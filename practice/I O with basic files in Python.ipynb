{
 "cells": [
  {
   "cell_type": "code",
   "execution_count": null,
   "id": "8dd64a02",
   "metadata": {},
   "outputs": [],
   "source": [
    "# [caution]:the way to create the following file only works in jupiter notebook"
   ]
  },
  {
   "cell_type": "code",
   "execution_count": 4,
   "id": "986f7f11",
   "metadata": {},
   "outputs": [
    {
     "name": "stdout",
     "output_type": "stream",
     "text": [
      "Overwriting myfile.txt\n"
     ]
    }
   ],
   "source": [
    "%%writefile myfile.txt\n",
    "This is the first line\n",
    "This is the second line\n",
    "This is the third line"
   ]
  },
  {
   "cell_type": "code",
   "execution_count": 6,
   "id": "93c9f515",
   "metadata": {},
   "outputs": [],
   "source": [
    "myfile=open('myfile.txt')"
   ]
  },
  {
   "cell_type": "code",
   "execution_count": 7,
   "id": "eb14a652",
   "metadata": {},
   "outputs": [
    {
     "data": {
      "text/plain": [
       "'This is the first line\\nThis is the second line\\nThis is the third line\\n'"
      ]
     },
     "execution_count": 7,
     "metadata": {},
     "output_type": "execute_result"
    }
   ],
   "source": [
    "myfile.read()"
   ]
  },
  {
   "cell_type": "code",
   "execution_count": 8,
   "id": "495c6097",
   "metadata": {},
   "outputs": [
    {
     "data": {
      "text/plain": [
       "''"
      ]
     },
     "execution_count": 8,
     "metadata": {},
     "output_type": "execute_result"
    }
   ],
   "source": [
    "myfile.read()"
   ]
  },
  {
   "cell_type": "code",
   "execution_count": null,
   "id": "62095023",
   "metadata": {},
   "outputs": [],
   "source": [
    "# you need to reset this file again if you try to read the file everytime"
   ]
  },
  {
   "cell_type": "code",
   "execution_count": 10,
   "id": "fcdcc028",
   "metadata": {},
   "outputs": [
    {
     "data": {
      "text/plain": [
       "0"
      ]
     },
     "execution_count": 10,
     "metadata": {},
     "output_type": "execute_result"
    }
   ],
   "source": [
    "myfile.seek(0)"
   ]
  },
  {
   "cell_type": "code",
   "execution_count": 11,
   "id": "143ee5c0",
   "metadata": {},
   "outputs": [
    {
     "data": {
      "text/plain": [
       "'This is the first line\\nThis is the second line\\nThis is the third line\\n'"
      ]
     },
     "execution_count": 11,
     "metadata": {},
     "output_type": "execute_result"
    }
   ],
   "source": [
    "myfile.read()"
   ]
  },
  {
   "cell_type": "code",
   "execution_count": 14,
   "id": "3b23f1c4",
   "metadata": {},
   "outputs": [
    {
     "data": {
      "text/plain": [
       "0"
      ]
     },
     "execution_count": 14,
     "metadata": {},
     "output_type": "execute_result"
    }
   ],
   "source": [
    "myfile.seek(0)"
   ]
  },
  {
   "cell_type": "code",
   "execution_count": 15,
   "id": "9838d044",
   "metadata": {},
   "outputs": [],
   "source": [
    "contents= myfile.read()"
   ]
  },
  {
   "cell_type": "code",
   "execution_count": 16,
   "id": "669ea799",
   "metadata": {},
   "outputs": [
    {
     "data": {
      "text/plain": [
       "'This is the first line\\nThis is the second line\\nThis is the third line\\n'"
      ]
     },
     "execution_count": 16,
     "metadata": {},
     "output_type": "execute_result"
    }
   ],
   "source": [
    "contents"
   ]
  },
  {
   "cell_type": "code",
   "execution_count": null,
   "id": "cdd450ff",
   "metadata": {},
   "outputs": [],
   "source": [
    "# if you need each line seperately presented in the list "
   ]
  },
  {
   "cell_type": "code",
   "execution_count": 17,
   "id": "64c25fe7",
   "metadata": {},
   "outputs": [
    {
     "data": {
      "text/plain": [
       "0"
      ]
     },
     "execution_count": 17,
     "metadata": {},
     "output_type": "execute_result"
    }
   ],
   "source": [
    "myfile.seek(0)"
   ]
  },
  {
   "cell_type": "code",
   "execution_count": 18,
   "id": "7390c634",
   "metadata": {},
   "outputs": [
    {
     "data": {
      "text/plain": [
       "['This is the first line\\n',\n",
       " 'This is the second line\\n',\n",
       " 'This is the third line\\n']"
      ]
     },
     "execution_count": 18,
     "metadata": {},
     "output_type": "execute_result"
    }
   ],
   "source": [
    "myfile.readlines()"
   ]
  },
  {
   "cell_type": "code",
   "execution_count": null,
   "id": "d649a7ad",
   "metadata": {},
   "outputs": [],
   "source": [
    "# to delete a file, you need to close it firstly. You can execute the folowing command line"
   ]
  },
  {
   "cell_type": "code",
   "execution_count": 19,
   "id": "1fe536c6",
   "metadata": {},
   "outputs": [
    {
     "ename": "NameError",
     "evalue": "name 'file' is not defined",
     "output_type": "error",
     "traceback": [
      "\u001b[0;31m---------------------------------------------------------------------------\u001b[0m",
      "\u001b[0;31mNameError\u001b[0m                                 Traceback (most recent call last)",
      "Cell \u001b[0;32mIn[19], line 1\u001b[0m\n\u001b[0;32m----> 1\u001b[0m \u001b[43mfile\u001b[49m\u001b[38;5;241m.\u001b[39mclose()\n",
      "\u001b[0;31mNameError\u001b[0m: name 'file' is not defined"
     ]
    }
   ],
   "source": [
    "file.close()"
   ]
  },
  {
   "cell_type": "code",
   "execution_count": 20,
   "id": "d6c9933c",
   "metadata": {},
   "outputs": [],
   "source": [
    "myfile.close()"
   ]
  },
  {
   "cell_type": "code",
   "execution_count": 26,
   "id": "be2ada7e",
   "metadata": {},
   "outputs": [],
   "source": [
    "with open('myfile.txt',mode='r') as mynewfile:\n",
    "    contents = mynewfile.read()"
   ]
  },
  {
   "cell_type": "markdown",
   "id": "2257d5a1",
   "metadata": {},
   "source": [
    "w : only permission to write a file; r= permission to read a file"
   ]
  },
  {
   "cell_type": "code",
   "execution_count": 24,
   "id": "0071424d",
   "metadata": {},
   "outputs": [
    {
     "data": {
      "text/plain": [
       "'This is the first line\\nThis is the second line\\nThis is the third line\\n'"
      ]
     },
     "execution_count": 24,
     "metadata": {},
     "output_type": "execute_result"
    }
   ],
   "source": [
    "contents"
   ]
  },
  {
   "cell_type": "markdown",
   "id": "d6074fbf",
   "metadata": {},
   "source": [
    "mode='r' is read only; \n",
    "mode='w' is write only(will overwrite files or create new!);\n",
    "mode='a'is append only(add on to files)\n",
    "mode='r+' is reading and writing\n",
    "mode='w+' is writing and reading(overwrite existing files or create new file!)"
   ]
  },
  {
   "cell_type": "code",
   "execution_count": 28,
   "id": "e9702861",
   "metadata": {},
   "outputs": [
    {
     "name": "stdout",
     "output_type": "stream",
     "text": [
      "Writing mynewfile.txt\n"
     ]
    }
   ],
   "source": [
    "%%writefile mynewfile.txt\n",
    "one \n",
    "two"
   ]
  },
  {
   "cell_type": "code",
   "execution_count": 30,
   "id": "79e4dba6",
   "metadata": {},
   "outputs": [
    {
     "name": "stdout",
     "output_type": "stream",
     "text": [
      "Overwriting mynewfile.txt\n"
     ]
    }
   ],
   "source": [
    "%%writefile mynewfile.txt\n",
    "she \n",
    "is\n",
    "great!"
   ]
  },
  {
   "cell_type": "code",
   "execution_count": 35,
   "id": "70cce193",
   "metadata": {},
   "outputs": [
    {
     "name": "stdout",
     "output_type": "stream",
     "text": [
      "she \n",
      "is\n",
      "great!\n",
      "hello!\n"
     ]
    }
   ],
   "source": [
    "with open('mynewfile.txt',mode='r')as f:\n",
    "    print(f.read())"
   ]
  },
  {
   "cell_type": "code",
   "execution_count": 44,
   "id": "3861cd5b",
   "metadata": {},
   "outputs": [],
   "source": [
    "with open('mynewfile.txt',mode='a')as f:\n",
    "    f.write('hello! \\nhi how are you!')"
   ]
  },
  {
   "cell_type": "code",
   "execution_count": 45,
   "id": "ea9a48b5",
   "metadata": {},
   "outputs": [
    {
     "name": "stdout",
     "output_type": "stream",
     "text": [
      "she \n",
      "is\n",
      "great!\n",
      "hello!hello!hello! /n hi how are you!hello! /nhi how are you!hello! /nhi how are you!hello! \n",
      "hi how are you!\n"
     ]
    }
   ],
   "source": [
    "with open('mynewfile.txt',mode='r')as f:\n",
    "    print(f.read())"
   ]
  },
  {
   "cell_type": "code",
   "execution_count": 47,
   "id": "768bc154",
   "metadata": {},
   "outputs": [],
   "source": [
    "with open('xjfjd.txt',mode='w')as f:\n",
    "    f.write('fuck you!')"
   ]
  },
  {
   "cell_type": "code",
   "execution_count": 49,
   "id": "0b930f12",
   "metadata": {},
   "outputs": [
    {
     "name": "stdout",
     "output_type": "stream",
     "text": [
      "fuck you!\n"
     ]
    }
   ],
   "source": [
    "with open('xjfjd.txt',mode='r')as f:\n",
    "    print(f.read())"
   ]
  },
  {
   "cell_type": "code",
   "execution_count": null,
   "id": "b1bdb97a",
   "metadata": {},
   "outputs": [],
   "source": []
  }
 ],
 "metadata": {
  "kernelspec": {
   "display_name": "Python 3 (ipykernel)",
   "language": "python",
   "name": "python3"
  },
  "language_info": {
   "codemirror_mode": {
    "name": "ipython",
    "version": 3
   },
   "file_extension": ".py",
   "mimetype": "text/x-python",
   "name": "python",
   "nbconvert_exporter": "python",
   "pygments_lexer": "ipython3",
   "version": "3.10.9"
  }
 },
 "nbformat": 4,
 "nbformat_minor": 5
}
