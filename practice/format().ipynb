{
 "cells": [
  {
   "cell_type": "markdown",
   "id": "c518bed3",
   "metadata": {},
   "source": [
    "formating with the .format() method"
   ]
  },
  {
   "cell_type": "code",
   "execution_count": 1,
   "id": "574a02fb",
   "metadata": {},
   "outputs": [
    {
     "name": "stdout",
     "output_type": "stream",
     "text": [
      "this is a str!\n"
     ]
    }
   ],
   "source": [
    "print(\"this is a {}\" .format(\"str!\"))"
   ]
  },
  {
   "cell_type": "code",
   "execution_count": 4,
   "id": "46fbf49b",
   "metadata": {},
   "outputs": [
    {
     "name": "stdout",
     "output_type": "stream",
     "text": [
      "hi you now\n"
     ]
    }
   ],
   "source": [
    "print('{0} {1} {2}' .format(\"hi\",\"you\",\"now\"))"
   ]
  },
  {
   "cell_type": "code",
   "execution_count": 5,
   "id": "513be2ea",
   "metadata": {},
   "outputs": [
    {
     "name": "stdout",
     "output_type": "stream",
     "text": [
      "hi how are you!\n"
     ]
    }
   ],
   "source": [
    "print('{q} {b} {c} {d}'.format(q='hi', b='how', c='are', d='you!'))"
   ]
  },
  {
   "cell_type": "markdown",
   "id": "e418005d",
   "metadata": {},
   "source": [
    "float formating follows \"{value:width.precision f}"
   ]
  },
  {
   "cell_type": "code",
   "execution_count": 8,
   "id": "f67a4e7b",
   "metadata": {},
   "outputs": [],
   "source": [
    "result= 100/44"
   ]
  },
  {
   "cell_type": "code",
   "execution_count": 10,
   "id": "e04f3869",
   "metadata": {},
   "outputs": [
    {
     "data": {
      "text/plain": [
       "2.272727272727273"
      ]
     },
     "execution_count": 10,
     "metadata": {},
     "output_type": "execute_result"
    }
   ],
   "source": [
    "result"
   ]
  },
  {
   "cell_type": "code",
   "execution_count": 19,
   "id": "3d143fe1",
   "metadata": {},
   "outputs": [
    {
     "name": "stdout",
     "output_type": "stream",
     "text": [
      "the result is 2.27\n"
     ]
    }
   ],
   "source": [
    "print('the result is {r:3.2f}'.format(r = result))"
   ]
  },
  {
   "cell_type": "code",
   "execution_count": 20,
   "id": "00af3aac",
   "metadata": {},
   "outputs": [
    {
     "name": "stdout",
     "output_type": "stream",
     "text": [
      "she is 2.27\n"
     ]
    }
   ],
   "source": [
    "print('she is {r:1.2f}'.format(r=result))"
   ]
  },
  {
   "cell_type": "markdown",
   "id": "f776b212",
   "metadata": {},
   "source": [
    "formating string-another application"
   ]
  },
  {
   "cell_type": "code",
   "execution_count": null,
   "id": "687af84b",
   "metadata": {},
   "outputs": [],
   "source": [
    "name = \"Jose\""
   ]
  },
  {
   "cell_type": "code",
   "execution_count": 26,
   "id": "239b77b1",
   "metadata": {},
   "outputs": [
    {
     "name": "stdout",
     "output_type": "stream",
     "text": [
      "he is d\n"
     ]
    }
   ],
   "source": [
    "print('he is {f}'.format(f='d'))"
   ]
  },
  {
   "cell_type": "code",
   "execution_count": 25,
   "id": "34627041",
   "metadata": {},
   "outputs": [
    {
     "name": "stdout",
     "output_type": "stream",
     "text": [
      "his name is name\n"
     ]
    }
   ],
   "source": [
    "print('his name is {}'.format('name'))"
   ]
  },
  {
   "cell_type": "code",
   "execution_count": 39,
   "id": "6d0cdd18",
   "metadata": {},
   "outputs": [
    {
     "name": "stdout",
     "output_type": "stream",
     "text": [
      "He is Lily\n"
     ]
    }
   ],
   "source": [
    "print('He is {}'.format('Lily'))"
   ]
  },
  {
   "cell_type": "code",
   "execution_count": null,
   "id": "2661141b",
   "metadata": {},
   "outputs": [],
   "source": [
    "#另一种代码方式"
   ]
  },
  {
   "cell_type": "code",
   "execution_count": 35,
   "id": "3bb0e4b0",
   "metadata": {},
   "outputs": [],
   "source": [
    "name= 'Jose'"
   ]
  },
  {
   "cell_type": "code",
   "execution_count": 36,
   "id": "d88b6755",
   "metadata": {},
   "outputs": [
    {
     "name": "stdout",
     "output_type": "stream",
     "text": [
      "hello he is Jose\n"
     ]
    }
   ],
   "source": [
    "print(f'hello he is {name}')"
   ]
  },
  {
   "cell_type": "code",
   "execution_count": 41,
   "id": "052662f7",
   "metadata": {},
   "outputs": [
    {
     "name": "stdout",
     "output_type": "stream",
     "text": [
      "I'm lili\n"
     ]
    }
   ],
   "source": [
    "print(f\"I'm {'lili'}\")"
   ]
  },
  {
   "cell_type": "code",
   "execution_count": 43,
   "id": "726024a1",
   "metadata": {},
   "outputs": [
    {
     "name": "stdout",
     "output_type": "stream",
     "text": [
      "sam is born at 3 2002.\n"
     ]
    }
   ],
   "source": [
    "name = \"sam\"\n",
    "age=\"3\"\n",
    "year=\"2002\"\n",
    "print(f'{name} is born at {age} {year}.')"
   ]
  },
  {
   "cell_type": "code",
   "execution_count": null,
   "id": "e400a269",
   "metadata": {},
   "outputs": [],
   "source": [
    "# OR"
   ]
  },
  {
   "cell_type": "code",
   "execution_count": 46,
   "id": "c2c6a0cd",
   "metadata": {},
   "outputs": [
    {
     "name": "stdout",
     "output_type": "stream",
     "text": [
      "sam is born at 2002 3\n"
     ]
    }
   ],
   "source": [
    "print('{0} is born at {2} {1}'.format('sam', \"3\",\"2002\"))"
   ]
  },
  {
   "cell_type": "code",
   "execution_count": 48,
   "id": "ce39e634",
   "metadata": {},
   "outputs": [],
   "source": [
    "lst =[0,1,2]"
   ]
  },
  {
   "cell_type": "code",
   "execution_count": 49,
   "id": "12387a9e",
   "metadata": {},
   "outputs": [
    {
     "data": {
      "text/plain": [
       "2"
      ]
     },
     "execution_count": 49,
     "metadata": {},
     "output_type": "execute_result"
    }
   ],
   "source": [
    "lst.pop()"
   ]
  },
  {
   "cell_type": "code",
   "execution_count": null,
   "id": "8f9f9f4b",
   "metadata": {},
   "outputs": [],
   "source": []
  }
 ],
 "metadata": {
  "kernelspec": {
   "display_name": "Python 3 (ipykernel)",
   "language": "python",
   "name": "python3"
  },
  "language_info": {
   "codemirror_mode": {
    "name": "ipython",
    "version": 3
   },
   "file_extension": ".py",
   "mimetype": "text/x-python",
   "name": "python",
   "nbconvert_exporter": "python",
   "pygments_lexer": "ipython3",
   "version": "3.10.9"
  }
 },
 "nbformat": 4,
 "nbformat_minor": 5
}
