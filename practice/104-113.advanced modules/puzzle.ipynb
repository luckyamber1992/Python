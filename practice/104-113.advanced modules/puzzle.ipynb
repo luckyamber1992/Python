{
 "cells": [
  {
   "attachments": {},
   "cell_type": "markdown",
   "metadata": {},
   "source": [
    "# Step 1: Unzipping the File\n",
    "## move the current file to another working directory"
   ]
  },
  {
   "cell_type": "code",
   "execution_count": 1,
   "metadata": {},
   "outputs": [],
   "source": [
    "import shutil "
   ]
  },
  {
   "cell_type": "code",
   "execution_count": 4,
   "metadata": {},
   "outputs": [
    {
     "data": {
      "text/plain": [
       "'/Users/amberyang/Python/practice/14.advanced modules'"
      ]
     },
     "execution_count": 4,
     "metadata": {},
     "output_type": "execute_result"
    }
   ],
   "source": [
    "import os \n",
    "os.getcwd()"
   ]
  },
  {
   "cell_type": "code",
   "execution_count": 6,
   "metadata": {},
   "outputs": [
    {
     "data": {
      "text/plain": [
       "'/Users/amberyang/Python/Complete-Python-3-Bootcamp/12-Advanced Python Modules/08-Advanced-Python-Module-Exercise/puzzle.ipynb'"
      ]
     },
     "execution_count": 6,
     "metadata": {},
     "output_type": "execute_result"
    }
   ],
   "source": [
    "shutil.move('puzzle.ipynb','/Users/amberyang/Python/Complete-Python-3-Bootcamp/12-Advanced Python Modules/08-Advanced-Python-Module-Exercise')"
   ]
  },
  {
   "cell_type": "code",
   "execution_count": 2,
   "metadata": {},
   "outputs": [
    {
     "ename": "ReadError",
     "evalue": "unzip_me_for_instructions.zip is not a zip file",
     "output_type": "error",
     "traceback": [
      "\u001b[0;31m---------------------------------------------------------------------------\u001b[0m",
      "\u001b[0;31mReadError\u001b[0m                                 Traceback (most recent call last)",
      "Cell \u001b[0;32mIn[2], line 1\u001b[0m\n\u001b[0;32m----> 1\u001b[0m shutil\u001b[39m.\u001b[39;49munpack_archive(\u001b[39m'\u001b[39;49m\u001b[39munzip_me_for_instructions.zip\u001b[39;49m\u001b[39m'\u001b[39;49m,\u001b[39m'\u001b[39;49m\u001b[39m'\u001b[39;49m,\u001b[39m'\u001b[39;49m\u001b[39mzip\u001b[39;49m\u001b[39m'\u001b[39;49m)\n",
      "File \u001b[0;32m/Library/Developer/CommandLineTools/Library/Frameworks/Python3.framework/Versions/3.9/lib/python3.9/shutil.py:1243\u001b[0m, in \u001b[0;36munpack_archive\u001b[0;34m(filename, extract_dir, format)\u001b[0m\n\u001b[1;32m   1240\u001b[0m         \u001b[39mraise\u001b[39;00m \u001b[39mValueError\u001b[39;00m(\u001b[39m\"\u001b[39m\u001b[39mUnknown unpack format \u001b[39m\u001b[39m'\u001b[39m\u001b[39m{0}\u001b[39;00m\u001b[39m'\u001b[39m\u001b[39m\"\u001b[39m\u001b[39m.\u001b[39mformat(\u001b[39mformat\u001b[39m)) \u001b[39mfrom\u001b[39;00m \u001b[39mNone\u001b[39m\n\u001b[1;32m   1242\u001b[0m     func \u001b[39m=\u001b[39m format_info[\u001b[39m1\u001b[39m]\n\u001b[0;32m-> 1243\u001b[0m     func(filename, extract_dir, \u001b[39m*\u001b[39;49m\u001b[39m*\u001b[39;49m\u001b[39mdict\u001b[39;49m(format_info[\u001b[39m2\u001b[39;49m]))\n\u001b[1;32m   1244\u001b[0m \u001b[39melse\u001b[39;00m:\n\u001b[1;32m   1245\u001b[0m     \u001b[39m# we need to look at the registered unpackers supported extensions\u001b[39;00m\n\u001b[1;32m   1246\u001b[0m     \u001b[39mformat\u001b[39m \u001b[39m=\u001b[39m _find_unpack_format(filename)\n",
      "File \u001b[0;32m/Library/Developer/CommandLineTools/Library/Frameworks/Python3.framework/Versions/3.9/lib/python3.9/shutil.py:1151\u001b[0m, in \u001b[0;36m_unpack_zipfile\u001b[0;34m(filename, extract_dir)\u001b[0m\n\u001b[1;32m   1148\u001b[0m \u001b[39mimport\u001b[39;00m \u001b[39mzipfile\u001b[39;00m  \u001b[39m# late import for breaking circular dependency\u001b[39;00m\n\u001b[1;32m   1150\u001b[0m \u001b[39mif\u001b[39;00m \u001b[39mnot\u001b[39;00m zipfile\u001b[39m.\u001b[39mis_zipfile(filename):\n\u001b[0;32m-> 1151\u001b[0m     \u001b[39mraise\u001b[39;00m ReadError(\u001b[39m\"\u001b[39m\u001b[39m%s\u001b[39;00m\u001b[39m is not a zip file\u001b[39m\u001b[39m\"\u001b[39m \u001b[39m%\u001b[39m filename)\n\u001b[1;32m   1153\u001b[0m \u001b[39mzip\u001b[39m \u001b[39m=\u001b[39m zipfile\u001b[39m.\u001b[39mZipFile(filename)\n\u001b[1;32m   1154\u001b[0m \u001b[39mtry\u001b[39;00m:\n",
      "\u001b[0;31mReadError\u001b[0m: unzip_me_for_instructions.zip is not a zip file"
     ]
    }
   ],
   "source": [
    "shutil.unpack_archive('unzip_me_for_instructions.zip','','zip')"
   ]
  }
 ],
 "metadata": {
  "kernelspec": {
   "display_name": "Python 3",
   "language": "python",
   "name": "python3"
  },
  "language_info": {
   "codemirror_mode": {
    "name": "ipython",
    "version": 3
   },
   "file_extension": ".py",
   "mimetype": "text/x-python",
   "name": "python",
   "nbconvert_exporter": "python",
   "pygments_lexer": "ipython3",
   "version": "3.9.6"
  },
  "orig_nbformat": 4
 },
 "nbformat": 4,
 "nbformat_minor": 2
}
