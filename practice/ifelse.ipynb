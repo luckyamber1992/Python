{
 "cells": [
  {
   "cell_type": "markdown",
   "id": "540cd9a5",
   "metadata": {},
   "source": [
    "if some_condition:\n",
    "elif some_other_condition:\n",
    "else:"
   ]
  },
  {
   "cell_type": "code",
   "execution_count": 1,
   "id": "e4a870cc",
   "metadata": {},
   "outputs": [
    {
     "name": "stdout",
     "output_type": "stream",
     "text": [
      "true\n"
     ]
    }
   ],
   "source": [
    "if  True:\n",
    "    print('true')"
   ]
  },
  {
   "cell_type": "code",
   "execution_count": 4,
   "id": "ddbf12ea",
   "metadata": {},
   "outputs": [
    {
     "name": "stdout",
     "output_type": "stream",
     "text": [
      "I'm not hungary\n"
     ]
    }
   ],
   "source": [
    "hungary = False\n",
    "if hungary:\n",
    "    print('feed me!')\n",
    "else:\n",
    "    print(\"I'm not hungary\")"
   ]
  },
  {
   "cell_type": "code",
   "execution_count": 8,
   "id": "8032835b",
   "metadata": {},
   "outputs": [
    {
     "name": "stdout",
     "output_type": "stream",
     "text": [
      "I do not know much!\n"
     ]
    }
   ],
   "source": [
    "loc = 'bank'\n",
    "if loc == 'Auto Shop':\n",
    "    print(\"oh\")\n",
    "elif loc == \"back\":\n",
    "    print('hey give me money!')\n",
    "else:\n",
    "    print(\"I do not know much!\")"
   ]
  },
  {
   "cell_type": "code",
   "execution_count": 11,
   "id": "ddecca47",
   "metadata": {},
   "outputs": [
    {
     "name": "stdout",
     "output_type": "stream",
     "text": [
      "what is your name\n"
     ]
    }
   ],
   "source": [
    "name = 'sammy'\n",
    "if name == 'Frankie':\n",
    "    print(\"hello F\")\n",
    "elif name == \"Sammy\":\n",
    "    print('h')\n",
    "else:\n",
    "    print('what is your name')"
   ]
  },
  {
   "cell_type": "code",
   "execution_count": null,
   "id": "707fccbb",
   "metadata": {},
   "outputs": [],
   "source": []
  }
 ],
 "metadata": {
  "kernelspec": {
   "display_name": "Python 3 (ipykernel)",
   "language": "python",
   "name": "python3"
  },
  "language_info": {
   "codemirror_mode": {
    "name": "ipython",
    "version": 3
   },
   "file_extension": ".py",
   "mimetype": "text/x-python",
   "name": "python",
   "nbconvert_exporter": "python",
   "pygments_lexer": "ipython3",
   "version": "3.10.9"
  }
 },
 "nbformat": 4,
 "nbformat_minor": 5
}
