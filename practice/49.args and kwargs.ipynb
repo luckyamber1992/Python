{
 "cells": [
  {
   "cell_type": "code",
   "execution_count": 3,
   "metadata": {},
   "outputs": [],
   "source": [
    "# return 5% of the sum of a and b\n",
    "def myfunc(a,b):\n",
    "    return sum((a,b))*0.05"
   ]
  },
  {
   "cell_type": "code",
   "execution_count": 4,
   "metadata": {},
   "outputs": [],
   "source": [
    "# when you are calculating the sum of several numbers, you can use *args\n",
    "def myfunc(*args):\n",
    "    return sum(args)* 0.05"
   ]
  },
  {
   "cell_type": "code",
   "execution_count": 7,
   "metadata": {},
   "outputs": [
    {
     "data": {
      "text/plain": [
       "5.300000000000001"
      ]
     },
     "execution_count": 7,
     "metadata": {},
     "output_type": "execute_result"
    }
   ],
   "source": [
    "myfunc(1,2,3,100)  #you can add as many numbers as you can "
   ]
  },
  {
   "cell_type": "code",
   "execution_count": 14,
   "metadata": {},
   "outputs": [],
   "source": [
    "def myfunc(*args):\n",
    "    print(args)"
   ]
  },
  {
   "cell_type": "code",
   "execution_count": 15,
   "metadata": {},
   "outputs": [
    {
     "name": "stdout",
     "output_type": "stream",
     "text": [
      "(100, 200, 300)\n"
     ]
    }
   ],
   "source": [
    "myfunc(100,200,300) #*args output tuples"
   ]
  },
  {
   "cell_type": "code",
   "execution_count": 11,
   "metadata": {},
   "outputs": [],
   "source": [
    "def myfunc(**kwargs):\n",
    "    print(kwargs)"
   ]
  },
  {
   "cell_type": "code",
   "execution_count": 12,
   "metadata": {},
   "outputs": [
    {
     "name": "stdout",
     "output_type": "stream",
     "text": [
      "{'fruit': 'apple', 'veggie': 'lettuce'}\n"
     ]
    }
   ],
   "source": [
    "myfunc(fruit='apple',veggie='lettuce')"
   ]
  },
  {
   "cell_type": "code",
   "execution_count": 18,
   "metadata": {},
   "outputs": [],
   "source": [
    "def myfunc(*args,**kwargs):\n",
    "    print('I would like to have {} {}'.format(args[0],kwargs['fruit']))"
   ]
  },
  {
   "cell_type": "code",
   "execution_count": 19,
   "metadata": {},
   "outputs": [
    {
     "name": "stdout",
     "output_type": "stream",
     "text": [
      "I would like to have 10 apple\n"
     ]
    }
   ],
   "source": [
    "myfunc(10,20,30,fruit='apple',vegie='lettuce')"
   ]
  },
  {
   "cell_type": "code",
   "execution_count": null,
   "metadata": {},
   "outputs": [],
   "source": [
    "# *args --returns tuple\n",
    "# **kwargs -- returns dictionary"
   ]
  },
  {
   "cell_type": "code",
   "execution_count": 2,
   "metadata": {},
   "outputs": [
    {
     "name": "stdout",
     "output_type": "stream",
     "text": [
      "I have 20 it\n"
     ]
    }
   ],
   "source": [
    "def myfunc(*args,**kwargs):\n",
    "    print('I have {} {}'.format(args[1],kwargs['fruit']))\n",
    "myfunc(10,20,30,fruit='it',ss='t')"
   ]
  },
  {
   "cell_type": "code",
   "execution_count": 3,
   "metadata": {},
   "outputs": [],
   "source": [
    "def myfunc(*args):\n",
    "    even_list=[]\n",
    "    for num in args:\n",
    "        if num%2==0:\n",
    "            even_list.append(num)\n",
    "    return even_list"
   ]
  },
  {
   "cell_type": "code",
   "execution_count": 4,
   "metadata": {},
   "outputs": [
    {
     "data": {
      "text/plain": [
       "[12, 14]"
      ]
     },
     "execution_count": 4,
     "metadata": {},
     "output_type": "execute_result"
    }
   ],
   "source": [
    "myfunc(11,12,13,14,15)"
   ]
  },
  {
   "cell_type": "code",
   "execution_count": 7,
   "metadata": {},
   "outputs": [
    {
     "data": {
      "text/plain": [
       "'SMAHS'"
      ]
     },
     "execution_count": 7,
     "metadata": {},
     "output_type": "execute_result"
    }
   ],
   "source": [
    "st='smaHs'\n",
    "st.upper()"
   ]
  },
  {
   "cell_type": "code",
   "execution_count": 25,
   "metadata": {},
   "outputs": [],
   "source": [
    "def myfunc(x):\n",
    "    num=[]\n",
    "    for i in range(len(x)):\n",
    "        if i%2==0:\n",
    "            num.append(x[i].lower())\n",
    "        else:\n",
    "            num.append(x[i].upper())\n",
    "    return ''.join(num)\n",
    "#symbol = \"-\";\n",
    "# seq = (\"a\", \"b\", \"c\"); \n",
    "# # 字符串序列\n",
    "# print symbol.join( seq );\n",
    "#以上实例输出结果如下：a-b-c\n"
   ]
  },
  {
   "attachments": {},
   "cell_type": "markdown",
   "metadata": {},
   "source": [
    "return 写在loop里面会中断loop！"
   ]
  },
  {
   "cell_type": "code",
   "execution_count": 26,
   "metadata": {},
   "outputs": [
    {
     "data": {
      "text/plain": [
       "'sSsHkHh'"
      ]
     },
     "execution_count": 26,
     "metadata": {},
     "output_type": "execute_result"
    }
   ],
   "source": [
    "myfunc('sssHkhH')"
   ]
  },
  {
   "cell_type": "code",
   "execution_count": null,
   "metadata": {},
   "outputs": [],
   "source": []
  }
 ],
 "metadata": {
  "kernelspec": {
   "display_name": "Python 3 (ipykernel)",
   "language": "python",
   "name": "python3"
  },
  "language_info": {
   "codemirror_mode": {
    "name": "ipython",
    "version": 3
   },
   "file_extension": ".py",
   "mimetype": "text/x-python",
   "name": "python",
   "nbconvert_exporter": "python",
   "pygments_lexer": "ipython3",
   "version": "3.10.9"
  }
 },
 "nbformat": 4,
 "nbformat_minor": 2
}
