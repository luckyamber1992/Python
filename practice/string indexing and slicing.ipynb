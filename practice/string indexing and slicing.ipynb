{
 "cells": [
  {
   "cell_type": "markdown",
   "id": "b3a8ed81",
   "metadata": {},
   "source": [
    "空格也算一个string"
   ]
  },
  {
   "cell_type": "markdown",
   "id": "da53f4d9",
   "metadata": {},
   "source": [
    "len（）可以检测character数目"
   ]
  },
  {
   "cell_type": "code",
   "execution_count": null,
   "id": "5444a2f6",
   "metadata": {},
   "outputs": [],
   "source": [
    "Mystring=\"my hello world\""
   ]
  },
  {
   "cell_type": "code",
   "execution_count": 2,
   "id": "df108ff9",
   "metadata": {},
   "outputs": [],
   "source": [
    "Mystring = \" my hello world!\""
   ]
  },
  {
   "cell_type": "code",
   "execution_count": 3,
   "id": "9a0637aa",
   "metadata": {},
   "outputs": [
    {
     "data": {
      "text/plain": [
       "' my hello world!'"
      ]
     },
     "execution_count": 3,
     "metadata": {},
     "output_type": "execute_result"
    }
   ],
   "source": [
    "Mystring"
   ]
  },
  {
   "cell_type": "code",
   "execution_count": 4,
   "id": "0695ad61",
   "metadata": {},
   "outputs": [
    {
     "data": {
      "text/plain": [
       "16"
      ]
     },
     "execution_count": 4,
     "metadata": {},
     "output_type": "execute_result"
    }
   ],
   "source": [
    "len(Mystring)"
   ]
  },
  {
   "cell_type": "markdown",
   "id": "963850d6",
   "metadata": {},
   "source": [
    "indexing starts at 0"
   ]
  },
  {
   "cell_type": "code",
   "execution_count": 5,
   "id": "b5f3e650",
   "metadata": {},
   "outputs": [
    {
     "data": {
      "text/plain": [
       "'!'"
      ]
     },
     "execution_count": 5,
     "metadata": {},
     "output_type": "execute_result"
    }
   ],
   "source": [
    "Mystring[-1]"
   ]
  },
  {
   "cell_type": "code",
   "execution_count": 6,
   "id": "e4705373",
   "metadata": {},
   "outputs": [
    {
     "data": {
      "text/plain": [
       "' '"
      ]
     },
     "execution_count": 6,
     "metadata": {},
     "output_type": "execute_result"
    }
   ],
   "source": [
    "Mystring[0]"
   ]
  },
  {
   "cell_type": "code",
   "execution_count": 7,
   "id": "592fa615",
   "metadata": {},
   "outputs": [
    {
     "data": {
      "text/plain": [
       "'y hello world!'"
      ]
     },
     "execution_count": 7,
     "metadata": {},
     "output_type": "execute_result"
    }
   ],
   "source": [
    "Mystring[2:]"
   ]
  },
  {
   "cell_type": "code",
   "execution_count": 8,
   "id": "e953d22c",
   "metadata": {},
   "outputs": [
    {
     "data": {
      "text/plain": [
       "' my'"
      ]
     },
     "execution_count": 8,
     "metadata": {},
     "output_type": "execute_result"
    }
   ],
   "source": [
    "Mystring[:3]"
   ]
  },
  {
   "cell_type": "markdown",
   "id": "1f8b12a3",
   "metadata": {},
   "source": [
    "Mystring[::2]代表格两个character输出文字"
   ]
  },
  {
   "cell_type": "code",
   "execution_count": 9,
   "id": "5edd2178",
   "metadata": {},
   "outputs": [
    {
     "data": {
      "text/plain": [
       "' yhlowrd'"
      ]
     },
     "execution_count": 9,
     "metadata": {},
     "output_type": "execute_result"
    }
   ],
   "source": [
    "Mystring[::2]"
   ]
  },
  {
   "cell_type": "code",
   "execution_count": null,
   "id": "7999af8d",
   "metadata": {},
   "outputs": [],
   "source": [
    "X = \"hello\""
   ]
  },
  {
   "cell_type": "code",
   "execution_count": null,
   "id": "edba2a18",
   "metadata": {},
   "outputs": [],
   "source": [
    "Y = X + \"you!\""
   ]
  },
  {
   "cell_type": "code",
   "execution_count": 10,
   "id": "50f198bc",
   "metadata": {},
   "outputs": [
    {
     "ename": "NameError",
     "evalue": "name 'Y' is not defined",
     "output_type": "error",
     "traceback": [
      "\u001b[0;31m---------------------------------------------------------------------------\u001b[0m",
      "\u001b[0;31mNameError\u001b[0m                                 Traceback (most recent call last)",
      "Cell \u001b[0;32mIn[10], line 1\u001b[0m\n\u001b[0;32m----> 1\u001b[0m \u001b[43mY\u001b[49m\n",
      "\u001b[0;31mNameError\u001b[0m: name 'Y' is not defined"
     ]
    }
   ],
   "source": [
    "Y"
   ]
  },
  {
   "cell_type": "code",
   "execution_count": 11,
   "id": "a85acae4",
   "metadata": {},
   "outputs": [
    {
     "ename": "NameError",
     "evalue": "name 'X' is not defined",
     "output_type": "error",
     "traceback": [
      "\u001b[0;31m---------------------------------------------------------------------------\u001b[0m",
      "\u001b[0;31mNameError\u001b[0m                                 Traceback (most recent call last)",
      "Cell \u001b[0;32mIn[11], line 1\u001b[0m\n\u001b[0;32m----> 1\u001b[0m \u001b[43mX\u001b[49m \u001b[38;5;241m+\u001b[39m \u001b[38;5;124m\"\u001b[39m\u001b[38;5;124myou!\u001b[39m\u001b[38;5;124m\"\u001b[39m\n",
      "\u001b[0;31mNameError\u001b[0m: name 'X' is not defined"
     ]
    }
   ],
   "source": [
    "X + \"you!\""
   ]
  },
  {
   "cell_type": "code",
   "execution_count": null,
   "id": "b876a504",
   "metadata": {},
   "outputs": [],
   "source": [
    "X=\"hello\""
   ]
  },
  {
   "cell_type": "code",
   "execution_count": 12,
   "id": "b24d4213",
   "metadata": {},
   "outputs": [
    {
     "ename": "NameError",
     "evalue": "name 'X' is not defined",
     "output_type": "error",
     "traceback": [
      "\u001b[0;31m---------------------------------------------------------------------------\u001b[0m",
      "\u001b[0;31mNameError\u001b[0m                                 Traceback (most recent call last)",
      "Cell \u001b[0;32mIn[12], line 1\u001b[0m\n\u001b[0;32m----> 1\u001b[0m Y\u001b[38;5;241m=\u001b[39m\u001b[43mX\u001b[49m\u001b[38;5;241m+\u001b[39m\u001b[38;5;124m\"\u001b[39m\u001b[38;5;124myou!\u001b[39m\u001b[38;5;124m\"\u001b[39m\n",
      "\u001b[0;31mNameError\u001b[0m: name 'X' is not defined"
     ]
    }
   ],
   "source": [
    "Y=X+\"you!\""
   ]
  },
  {
   "cell_type": "code",
   "execution_count": null,
   "id": "6803a901",
   "metadata": {},
   "outputs": [],
   "source": [
    "X='you'"
   ]
  },
  {
   "cell_type": "code",
   "execution_count": 13,
   "id": "7af7a85a",
   "metadata": {},
   "outputs": [
    {
     "ename": "NameError",
     "evalue": "name 'X' is not defined",
     "output_type": "error",
     "traceback": [
      "\u001b[0;31m---------------------------------------------------------------------------\u001b[0m",
      "\u001b[0;31mNameError\u001b[0m                                 Traceback (most recent call last)",
      "Cell \u001b[0;32mIn[13], line 1\u001b[0m\n\u001b[0;32m----> 1\u001b[0m \u001b[43mX\u001b[49m\n",
      "\u001b[0;31mNameError\u001b[0m: name 'X' is not defined"
     ]
    }
   ],
   "source": [
    "X"
   ]
  },
  {
   "cell_type": "code",
   "execution_count": 14,
   "id": "242fdab4",
   "metadata": {},
   "outputs": [],
   "source": [
    "N = 'HELLO'"
   ]
  },
  {
   "cell_type": "code",
   "execution_count": 15,
   "id": "6b0877d4",
   "metadata": {},
   "outputs": [
    {
     "data": {
      "text/plain": [
       "'HELLO'"
      ]
     },
     "execution_count": 15,
     "metadata": {},
     "output_type": "execute_result"
    }
   ],
   "source": [
    "N"
   ]
  },
  {
   "cell_type": "code",
   "execution_count": 16,
   "id": "5c1b700c",
   "metadata": {},
   "outputs": [
    {
     "data": {
      "text/plain": [
       "'HELLONICE '"
      ]
     },
     "execution_count": 16,
     "metadata": {},
     "output_type": "execute_result"
    }
   ],
   "source": [
    "N + 'NICE '"
   ]
  },
  {
   "cell_type": "code",
   "execution_count": 17,
   "id": "fc6f5154",
   "metadata": {},
   "outputs": [
    {
     "ename": "SyntaxError",
     "evalue": "invalid syntax (3384309539.py, line 1)",
     "output_type": "error",
     "traceback": [
      "\u001b[0;36m  Cell \u001b[0;32mIn[17], line 1\u001b[0;36m\u001b[0m\n\u001b[0;31m    N + /n +\"you\"\u001b[0m\n\u001b[0m        ^\u001b[0m\n\u001b[0;31mSyntaxError\u001b[0m\u001b[0;31m:\u001b[0m invalid syntax\n"
     ]
    }
   ],
   "source": [
    "N + /n +\"you\""
   ]
  },
  {
   "cell_type": "code",
   "execution_count": 18,
   "id": "28ad782d",
   "metadata": {},
   "outputs": [
    {
     "data": {
      "text/plain": [
       "'HELLO you!'"
      ]
     },
     "execution_count": 18,
     "metadata": {},
     "output_type": "execute_result"
    }
   ],
   "source": [
    "N +' you!'"
   ]
  },
  {
   "cell_type": "code",
   "execution_count": 19,
   "id": "9e197bae",
   "metadata": {},
   "outputs": [
    {
     "ename": "NameError",
     "evalue": "name 'X' is not defined",
     "output_type": "error",
     "traceback": [
      "\u001b[0;31m---------------------------------------------------------------------------\u001b[0m",
      "\u001b[0;31mNameError\u001b[0m                                 Traceback (most recent call last)",
      "Cell \u001b[0;32mIn[19], line 1\u001b[0m\n\u001b[0;32m----> 1\u001b[0m \u001b[43mX\u001b[49m\u001b[38;5;241m.\u001b[39mupper(\u001b[38;5;124m'\u001b[39m\u001b[38;5;124mhello\u001b[39m\u001b[38;5;124m'\u001b[39m)\n",
      "\u001b[0;31mNameError\u001b[0m: name 'X' is not defined"
     ]
    }
   ],
   "source": [
    "X.upper('hello')"
   ]
  },
  {
   "cell_type": "code",
   "execution_count": 20,
   "id": "601b5258",
   "metadata": {},
   "outputs": [],
   "source": [
    "x = 'hello'"
   ]
  },
  {
   "cell_type": "code",
   "execution_count": 21,
   "id": "a6cbc72d",
   "metadata": {},
   "outputs": [
    {
     "data": {
      "text/plain": [
       "<function str.upper()>"
      ]
     },
     "execution_count": 21,
     "metadata": {},
     "output_type": "execute_result"
    }
   ],
   "source": [
    "x.upper"
   ]
  },
  {
   "cell_type": "code",
   "execution_count": 22,
   "id": "9595e180",
   "metadata": {},
   "outputs": [
    {
     "data": {
      "text/plain": [
       "'HELLO'"
      ]
     },
     "execution_count": 22,
     "metadata": {},
     "output_type": "execute_result"
    }
   ],
   "source": [
    "x.upper() #将str中的字母变为大写"
   ]
  },
  {
   "cell_type": "code",
   "execution_count": 23,
   "id": "510d245c",
   "metadata": {},
   "outputs": [
    {
     "data": {
      "text/plain": [
       "'hello'"
      ]
     },
     "execution_count": 23,
     "metadata": {},
     "output_type": "execute_result"
    }
   ],
   "source": [
    "x.lower()#将str中大写变为小写"
   ]
  },
  {
   "cell_type": "code",
   "execution_count": 25,
   "id": "796ea7a6",
   "metadata": {},
   "outputs": [],
   "source": [
    "x =\"hi this is me\""
   ]
  },
  {
   "cell_type": "code",
   "execution_count": 26,
   "id": "ef541b03",
   "metadata": {},
   "outputs": [
    {
     "data": {
      "text/plain": [
       "['hi', 'this', 'is', 'me']"
      ]
     },
     "execution_count": 26,
     "metadata": {},
     "output_type": "execute_result"
    }
   ],
   "source": [
    "x.split()#按照空格将字母分隔开"
   ]
  },
  {
   "cell_type": "code",
   "execution_count": 27,
   "id": "42e3ab6a",
   "metadata": {},
   "outputs": [
    {
     "ename": "NameError",
     "evalue": "name 'i' is not defined",
     "output_type": "error",
     "traceback": [
      "\u001b[0;31m---------------------------------------------------------------------------\u001b[0m",
      "\u001b[0;31mNameError\u001b[0m                                 Traceback (most recent call last)",
      "Cell \u001b[0;32mIn[27], line 1\u001b[0m\n\u001b[0;32m----> 1\u001b[0m x\u001b[38;5;241m.\u001b[39msplit(\u001b[43mi\u001b[49m)\n",
      "\u001b[0;31mNameError\u001b[0m: name 'i' is not defined"
     ]
    }
   ],
   "source": [
    "x.split(i)"
   ]
  },
  {
   "cell_type": "code",
   "execution_count": 28,
   "id": "e74ada95",
   "metadata": {},
   "outputs": [
    {
     "data": {
      "text/plain": [
       "['h', ' th', 's ', 's me']"
      ]
     },
     "execution_count": 28,
     "metadata": {},
     "output_type": "execute_result"
    }
   ],
   "source": [
    "x.split(\"i\")#按照i将字母隔开"
   ]
  },
  {
   "cell_type": "code",
   "execution_count": null,
   "id": "ebab97fa",
   "metadata": {},
   "outputs": [],
   "source": [
    "myname = 'hi'"
   ]
  },
  {
   "cell_type": "markdown",
   "id": "09186333",
   "metadata": {},
   "source": [
    "float formating follows \"{value:width:precision:f}"
   ]
  },
  {
   "cell_type": "code",
   "execution_count": null,
   "id": "7710275a",
   "metadata": {},
   "outputs": [],
   "source": []
  }
 ],
 "metadata": {
  "kernelspec": {
   "display_name": "Python 3 (ipykernel)",
   "language": "python",
   "name": "python3"
  },
  "language_info": {
   "codemirror_mode": {
    "name": "ipython",
    "version": 3
   },
   "file_extension": ".py",
   "mimetype": "text/x-python",
   "name": "python",
   "nbconvert_exporter": "python",
   "pygments_lexer": "ipython3",
   "version": "3.10.9"
  }
 },
 "nbformat": 4,
 "nbformat_minor": 5
}
