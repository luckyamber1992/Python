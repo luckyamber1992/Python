{
 "cells": [
  {
   "cell_type": "code",
   "execution_count": null,
   "metadata": {},
   "outputs": [],
   "source": [
    "# this can be used as a base class and the attributes can be inherited by other classes\n",
    "class Animal():\n",
    "    def __init__(self):\n",
    "        print('animal created')\n",
    "    def __init__(self):\n",
    "        print('I am eating')\n",
    "    def who_am_i(self):\n",
    "        print('I am an animal')"
   ]
  }
 ],
 "metadata": {
  "language_info": {
   "name": "python"
  },
  "orig_nbformat": 4
 },
 "nbformat": 4,
 "nbformat_minor": 2
}
