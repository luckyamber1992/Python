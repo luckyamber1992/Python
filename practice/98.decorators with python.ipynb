{
 "cells": [
  {
   "cell_type": "code",
   "execution_count": 97,
   "metadata": {},
   "outputs": [],
   "source": [
    "def hello(name='Jose'):\n",
    "    print('The hello() function has been executed!')\n",
    "\n",
    "    def greet():\n",
    "        return '\\t This is greet() func'\n",
    "    def welcome():\n",
    "        return '\\t This is welcome() inside hello'\n",
    "    print('Execute a function!')\n",
    "    if name == 'Jose':\n",
    "        return greet()\n",
    "    else:\n",
    "        return welcome()\n",
    "        "
   ]
  },
  {
   "cell_type": "code",
   "execution_count": 98,
   "metadata": {},
   "outputs": [
    {
     "name": "stdout",
     "output_type": "stream",
     "text": [
      "The hello() function has been executed!\n",
      "Execute a function!\n"
     ]
    },
    {
     "data": {
      "text/plain": [
       "'\\t This is greet() func'"
      ]
     },
     "execution_count": 98,
     "metadata": {},
     "output_type": "execute_result"
    }
   ],
   "source": [
    "hello('Jose')"
   ]
  },
  {
   "cell_type": "code",
   "execution_count": 99,
   "metadata": {},
   "outputs": [
    {
     "name": "stdout",
     "output_type": "stream",
     "text": [
      "The hello() function has been executed!\n",
      "Execute a function!\n"
     ]
    }
   ],
   "source": [
    "my_func=hello()"
   ]
  },
  {
   "cell_type": "code",
   "execution_count": 85,
   "metadata": {},
   "outputs": [
    {
     "name": "stdout",
     "output_type": "stream",
     "text": [
      "\t This is greet() func\n"
     ]
    }
   ],
   "source": [
    "print(my_func())"
   ]
  },
  {
   "cell_type": "code",
   "execution_count": 86,
   "metadata": {},
   "outputs": [],
   "source": [
    "def cool():\n",
    "    def super_cool():\n",
    "        return 'I am very cool!'\n",
    "    return super_cool"
   ]
  },
  {
   "cell_type": "code",
   "execution_count": 87,
   "metadata": {},
   "outputs": [
    {
     "data": {
      "text/plain": [
       "<function __main__.cool.<locals>.super_cool()>"
      ]
     },
     "execution_count": 87,
     "metadata": {},
     "output_type": "execute_result"
    }
   ],
   "source": [
    "some_func=cool()\n",
    "some_func"
   ]
  },
  {
   "cell_type": "code",
   "execution_count": 88,
   "metadata": {},
   "outputs": [
    {
     "data": {
      "text/plain": [
       "<function __main__.cool()>"
      ]
     },
     "execution_count": 88,
     "metadata": {},
     "output_type": "execute_result"
    }
   ],
   "source": [
    "#和上面对比两者的区别，前者指向super_cool,后者指向cool，加上（）就表示要执行该程序\n",
    "some_fun2=cool\n",
    "some_fun2"
   ]
  },
  {
   "cell_type": "code",
   "execution_count": 89,
   "metadata": {},
   "outputs": [
    {
     "name": "stdout",
     "output_type": "stream",
     "text": [
      "I am very cool!\n"
     ]
    }
   ],
   "source": [
    "print(some_func())"
   ]
  },
  {
   "cell_type": "code",
   "execution_count": 100,
   "metadata": {},
   "outputs": [],
   "source": [
    "#pass in function \n",
    "def other_func(otherfunc):\n",
    "    print('other function')\n",
    "    print(otherfunc())\n"
   ]
  },
  {
   "cell_type": "code",
   "execution_count": 101,
   "metadata": {},
   "outputs": [
    {
     "name": "stdout",
     "output_type": "stream",
     "text": [
      "other function\n",
      "The hello() function has been executed!\n",
      "Execute a function!\n",
      "\t This is greet() func\n"
     ]
    }
   ],
   "source": [
    "other_func(hello)"
   ]
  },
  {
   "cell_type": "code",
   "execution_count": 106,
   "metadata": {},
   "outputs": [],
   "source": [
    "def new_decorator(original_func):\n",
    "    \n",
    "    def wrap_func():\n",
    "        print('Some extra code, before the original function')\n",
    "\n",
    "        original_func()\n",
    "\n",
    "        print('some extra code, after the original function')\n",
    "    \n",
    "    return wrap_func"
   ]
  },
  {
   "cell_type": "code",
   "execution_count": 103,
   "metadata": {},
   "outputs": [],
   "source": [
    "def func_needs_decorator():\n",
    "    print('I want to be decorated!')"
   ]
  },
  {
   "cell_type": "code",
   "execution_count": 104,
   "metadata": {},
   "outputs": [
    {
     "name": "stdout",
     "output_type": "stream",
     "text": [
      "I want to be decorated!\n"
     ]
    }
   ],
   "source": [
    "func_needs_decorator()"
   ]
  },
  {
   "cell_type": "code",
   "execution_count": 119,
   "metadata": {},
   "outputs": [],
   "source": [
    "# use the above function in decorator\n",
    "@new_decorator\n",
    "def func_needs_decorator():\n",
    "    print('I want to be decorated!')"
   ]
  },
  {
   "cell_type": "code",
   "execution_count": 120,
   "metadata": {},
   "outputs": [
    {
     "name": "stdout",
     "output_type": "stream",
     "text": [
      "Some extra code, before the original function\n",
      "I want to be decorated!\n",
      "some extra code, after the original function\n"
     ]
    }
   ],
   "source": [
    "func_needs_decorator()"
   ]
  }
 ],
 "metadata": {
  "kernelspec": {
   "display_name": "Python 3",
   "language": "python",
   "name": "python3"
  },
  "language_info": {
   "codemirror_mode": {
    "name": "ipython",
    "version": 3
   },
   "file_extension": ".py",
   "mimetype": "text/x-python",
   "name": "python",
   "nbconvert_exporter": "python",
   "pygments_lexer": "ipython3",
   "version": "3.9.6"
  },
  "orig_nbformat": 4
 },
 "nbformat": 4,
 "nbformat_minor": 2
}
