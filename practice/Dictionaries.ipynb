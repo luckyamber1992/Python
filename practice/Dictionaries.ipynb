{
 "cells": [
  {
   "cell_type": "code",
   "execution_count": null,
   "id": "afcd3bc6",
   "metadata": {},
   "outputs": [],
   "source": [
    "# {'key':\"value1\",\"key\":\"value2\"}"
   ]
  },
  {
   "cell_type": "code",
   "execution_count": null,
   "id": "83a4563a",
   "metadata": {},
   "outputs": [],
   "source": [
    "# differences between dictionaires and lists"
   ]
  },
  {
   "cell_type": "markdown",
   "id": "ae335c67",
   "metadata": {},
   "source": [
    "dictionaires: objects are unorderd and cannot be sorted. Objects retrived by key name;\n",
    "Lists: objects retrieved by location.Lists are ordered sequence whic can be indexed or sliced"
   ]
  },
  {
   "cell_type": "code",
   "execution_count": 1,
   "id": "950a2f17",
   "metadata": {},
   "outputs": [],
   "source": [
    "my_dict = {'key1':'value1',\"key2\":'value2'}"
   ]
  },
  {
   "cell_type": "code",
   "execution_count": 2,
   "id": "06efb063",
   "metadata": {},
   "outputs": [
    {
     "data": {
      "text/plain": [
       "'value1'"
      ]
     },
     "execution_count": 2,
     "metadata": {},
     "output_type": "execute_result"
    }
   ],
   "source": [
    "my_dict['key1']"
   ]
  },
  {
   "cell_type": "code",
   "execution_count": 4,
   "id": "22a91e14",
   "metadata": {},
   "outputs": [],
   "source": [
    "prices_lookup = {'apple':2.99, 'oranges':1.21,'milk':8.21}"
   ]
  },
  {
   "cell_type": "code",
   "execution_count": 5,
   "id": "458877d0",
   "metadata": {},
   "outputs": [
    {
     "data": {
      "text/plain": [
       "2.99"
      ]
     },
     "execution_count": 5,
     "metadata": {},
     "output_type": "execute_result"
    }
   ],
   "source": [
    "prices_lookup['apple']"
   ]
  },
  {
   "cell_type": "code",
   "execution_count": 6,
   "id": "b9cc7085",
   "metadata": {},
   "outputs": [],
   "source": [
    "d= {'k':1,'k2':[0,2,1],'k3':{'hi':1}}"
   ]
  },
  {
   "cell_type": "code",
   "execution_count": 8,
   "id": "a998f228",
   "metadata": {},
   "outputs": [
    {
     "data": {
      "text/plain": [
       "1"
      ]
     },
     "execution_count": 8,
     "metadata": {},
     "output_type": "execute_result"
    }
   ],
   "source": [
    "d['k3']['hi']"
   ]
  },
  {
   "cell_type": "code",
   "execution_count": 9,
   "id": "fe22feaa",
   "metadata": {},
   "outputs": [],
   "source": [
    "k ={'key':['a','b','c']}"
   ]
  },
  {
   "cell_type": "code",
   "execution_count": 13,
   "id": "480eafa4",
   "metadata": {},
   "outputs": [
    {
     "data": {
      "text/plain": [
       "'C'"
      ]
     },
     "execution_count": 13,
     "metadata": {},
     "output_type": "execute_result"
    }
   ],
   "source": [
    "k['key'][2].upper()"
   ]
  },
  {
   "cell_type": "code",
   "execution_count": 14,
   "id": "bf6104ef",
   "metadata": {},
   "outputs": [],
   "source": [
    "d = {'k1':100, \"k2\":200}"
   ]
  },
  {
   "cell_type": "code",
   "execution_count": 15,
   "id": "ee16bb44",
   "metadata": {},
   "outputs": [
    {
     "data": {
      "text/plain": [
       "200"
      ]
     },
     "execution_count": 15,
     "metadata": {},
     "output_type": "execute_result"
    }
   ],
   "source": [
    "d['k2']"
   ]
  },
  {
   "cell_type": "code",
   "execution_count": null,
   "id": "e267ef40",
   "metadata": {},
   "outputs": [],
   "source": []
  }
 ],
 "metadata": {
  "kernelspec": {
   "display_name": "Python 3 (ipykernel)",
   "language": "python",
   "name": "python3"
  },
  "language_info": {
   "codemirror_mode": {
    "name": "ipython",
    "version": 3
   },
   "file_extension": ".py",
   "mimetype": "text/x-python",
   "name": "python",
   "nbconvert_exporter": "python",
   "pygments_lexer": "ipython3",
   "version": "3.10.9"
  }
 },
 "nbformat": 4,
 "nbformat_minor": 5
}
