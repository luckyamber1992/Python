{
 "cells": [
  {
   "cell_type": "code",
   "execution_count": 2,
   "id": "6115f45c",
   "metadata": {},
   "outputs": [],
   "source": [
    "# use loop to execute the following command\n",
    "mystring='hello!'"
   ]
  },
  {
   "cell_type": "code",
   "execution_count": 3,
   "id": "860dd61f",
   "metadata": {},
   "outputs": [],
   "source": [
    "mylist=[]"
   ]
  },
  {
   "cell_type": "code",
   "execution_count": 4,
   "id": "d930bb5e",
   "metadata": {},
   "outputs": [],
   "source": [
    "for letter in mystring:\n",
    "    mylist.append(letter)"
   ]
  },
  {
   "cell_type": "code",
   "execution_count": 5,
   "id": "e742c98d",
   "metadata": {},
   "outputs": [
    {
     "data": {
      "text/plain": [
       "['h', 'e', 'l', 'l', 'o', '!']"
      ]
     },
     "execution_count": 5,
     "metadata": {},
     "output_type": "execute_result"
    }
   ],
   "source": [
    "mylist"
   ]
  },
  {
   "cell_type": "code",
   "execution_count": null,
   "id": "dbde52a5",
   "metadata": {},
   "outputs": [],
   "source": [
    "# use list comprehension to execute the following command"
   ]
  },
  {
   "cell_type": "code",
   "execution_count": 6,
   "id": "0eeac42d",
   "metadata": {},
   "outputs": [],
   "source": [
    "mylist=[letter for letter in mystring]"
   ]
  },
  {
   "cell_type": "code",
   "execution_count": 7,
   "id": "8ab424a0",
   "metadata": {},
   "outputs": [
    {
     "data": {
      "text/plain": [
       "['h', 'e', 'l', 'l', 'o', '!']"
      ]
     },
     "execution_count": 7,
     "metadata": {},
     "output_type": "execute_result"
    }
   ],
   "source": [
    "mylist"
   ]
  },
  {
   "cell_type": "code",
   "execution_count": 9,
   "id": "197b084a",
   "metadata": {},
   "outputs": [],
   "source": [
    "mylist = [c for c in 'sss']"
   ]
  },
  {
   "cell_type": "code",
   "execution_count": 10,
   "id": "40806e4d",
   "metadata": {},
   "outputs": [
    {
     "data": {
      "text/plain": [
       "['s', 's', 's']"
      ]
     },
     "execution_count": 10,
     "metadata": {},
     "output_type": "execute_result"
    }
   ],
   "source": [
    "mylist"
   ]
  },
  {
   "cell_type": "code",
   "execution_count": 13,
   "id": "b3f408d5",
   "metadata": {},
   "outputs": [],
   "source": [
    "mylist = [num for num in range(0,10)]"
   ]
  },
  {
   "cell_type": "code",
   "execution_count": 14,
   "id": "8e591b2c",
   "metadata": {},
   "outputs": [
    {
     "data": {
      "text/plain": [
       "[0, 1, 2, 3, 4, 5, 6, 7, 8, 9]"
      ]
     },
     "execution_count": 14,
     "metadata": {},
     "output_type": "execute_result"
    }
   ],
   "source": [
    "mylist"
   ]
  },
  {
   "cell_type": "code",
   "execution_count": null,
   "id": "59ed6951",
   "metadata": {},
   "outputs": [],
   "source": [
    "mylist =[]"
   ]
  },
  {
   "cell_type": "code",
   "execution_count": 15,
   "id": "b9752176",
   "metadata": {},
   "outputs": [],
   "source": [
    "for num in range(0,10):\n",
    "    mylist.append(num**2)"
   ]
  },
  {
   "cell_type": "code",
   "execution_count": 16,
   "id": "8203aef8",
   "metadata": {},
   "outputs": [
    {
     "data": {
      "text/plain": [
       "[0, 1, 2, 3, 4, 5, 6, 7, 8, 9, 0, 1, 4, 9, 16, 25, 36, 49, 64, 81]"
      ]
     },
     "execution_count": 16,
     "metadata": {},
     "output_type": "execute_result"
    }
   ],
   "source": [
    "mylist"
   ]
  },
  {
   "cell_type": "code",
   "execution_count": 17,
   "id": "b10cfc97",
   "metadata": {},
   "outputs": [],
   "source": [
    "mylist=[num**2 for num in range(0,5)]"
   ]
  },
  {
   "cell_type": "code",
   "execution_count": 18,
   "id": "1ba67d1a",
   "metadata": {},
   "outputs": [
    {
     "data": {
      "text/plain": [
       "[0, 1, 4, 9, 16]"
      ]
     },
     "execution_count": 18,
     "metadata": {},
     "output_type": "execute_result"
    }
   ],
   "source": [
    "mylist"
   ]
  },
  {
   "cell_type": "code",
   "execution_count": 19,
   "id": "69fa322f",
   "metadata": {},
   "outputs": [],
   "source": [
    "mylist = [ num for num in range(0,10) if num%2 == 0]"
   ]
  },
  {
   "cell_type": "code",
   "execution_count": 20,
   "id": "e7db88d6",
   "metadata": {},
   "outputs": [
    {
     "data": {
      "text/plain": [
       "[0, 2, 4, 6, 8]"
      ]
     },
     "execution_count": 20,
     "metadata": {},
     "output_type": "execute_result"
    }
   ],
   "source": [
    "mylist"
   ]
  },
  {
   "cell_type": "code",
   "execution_count": 21,
   "id": "4f3d2ba6",
   "metadata": {},
   "outputs": [
    {
     "data": {
      "text/plain": [
       "[32.0, 39.2, 60.8, 89.6, 147.2, 262.4]"
      ]
     },
     "execution_count": 21,
     "metadata": {},
     "output_type": "execute_result"
    }
   ],
   "source": [
    "fa=[]\n",
    "celcius = [0,4,16,32,64,128]\n",
    "for num in celcius:\n",
    "    fa.append((9/5)*num+32)\n",
    "fa"
   ]
  },
  {
   "cell_type": "code",
   "execution_count": null,
   "id": "2b338ab2",
   "metadata": {},
   "outputs": [],
   "source": [
    "# list comprehension is hard to read. be cautious if using it "
   ]
  },
  {
   "cell_type": "code",
   "execution_count": 22,
   "id": "feed2031",
   "metadata": {},
   "outputs": [],
   "source": [
    "results = [x if x%2==0 else 'odd' for x in range(0,12)]"
   ]
  },
  {
   "cell_type": "code",
   "execution_count": 23,
   "id": "e1571627",
   "metadata": {},
   "outputs": [
    {
     "data": {
      "text/plain": [
       "[0, 'odd', 2, 'odd', 4, 'odd', 6, 'odd', 8, 'odd', 10, 'odd']"
      ]
     },
     "execution_count": 23,
     "metadata": {},
     "output_type": "execute_result"
    }
   ],
   "source": [
    "results"
   ]
  },
  {
   "cell_type": "code",
   "execution_count": null,
   "id": "c3b6f4f3",
   "metadata": {},
   "outputs": [],
   "source": [
    "# nested loop"
   ]
  },
  {
   "cell_type": "code",
   "execution_count": 27,
   "id": "c6370fa0",
   "metadata": {},
   "outputs": [],
   "source": [
    "mylist=[]\n",
    "for x in [2,4,6]:\n",
    "    for y in [1,2,3]:\n",
    "        mylist.append(x*y)"
   ]
  },
  {
   "cell_type": "code",
   "execution_count": 28,
   "id": "ed47e757",
   "metadata": {},
   "outputs": [
    {
     "data": {
      "text/plain": [
       "[2, 4, 6, 4, 8, 12, 6, 12, 18]"
      ]
     },
     "execution_count": 28,
     "metadata": {},
     "output_type": "execute_result"
    }
   ],
   "source": [
    "mylist"
   ]
  },
  {
   "cell_type": "code",
   "execution_count": 30,
   "id": "67867832",
   "metadata": {},
   "outputs": [],
   "source": [
    "mylist=[x*y for x in (1,2,3) for y in (2,3,4)]"
   ]
  },
  {
   "cell_type": "code",
   "execution_count": 31,
   "id": "4c5769b0",
   "metadata": {},
   "outputs": [
    {
     "data": {
      "text/plain": [
       "[2, 3, 4, 4, 6, 8, 6, 9, 12]"
      ]
     },
     "execution_count": 31,
     "metadata": {},
     "output_type": "execute_result"
    }
   ],
   "source": [
    "mylist"
   ]
  },
  {
   "cell_type": "code",
   "execution_count": null,
   "id": "8560cab6",
   "metadata": {},
   "outputs": [],
   "source": []
  }
 ],
 "metadata": {
  "kernelspec": {
   "display_name": "Python 3 (ipykernel)",
   "language": "python",
   "name": "python3"
  },
  "language_info": {
   "codemirror_mode": {
    "name": "ipython",
    "version": 3
   },
   "file_extension": ".py",
   "mimetype": "text/x-python",
   "name": "python",
   "nbconvert_exporter": "python",
   "pygments_lexer": "ipython3",
   "version": "3.10.9"
  }
 },
 "nbformat": 4,
 "nbformat_minor": 5
}
