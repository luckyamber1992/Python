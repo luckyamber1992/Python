{
 "cells": [
  {
   "attachments": {},
   "cell_type": "markdown",
   "metadata": {},
   "source": [
    "# 写一个程序，可以检测board中的位置是不是empty以及输入的数据有没有超过range，有的话给出错误提示"
   ]
  },
  {
   "cell_type": "code",
   "execution_count": 25,
   "metadata": {},
   "outputs": [],
   "source": [
    "def space_check(board,position):\n",
    "    return board[position]==' '\n"
   ]
  },
  {
   "cell_type": "code",
   "execution_count": 61,
   "metadata": {},
   "outputs": [],
   "source": [
    "def player_choice(board):\n",
    "    position=0\n",
    "    while position not in [1,2,3,4,5,6,7,8,9]:\n",
    "        position=int(input(\"what's your next position? chosse in 1-9\"))\n",
    "        if not space_check(board,position)==True:\n",
    "            print('not empty!')\n",
    "            continue\n",
    "        return position \n"
   ]
  },
  {
   "cell_type": "code",
   "execution_count": 62,
   "metadata": {},
   "outputs": [
    {
     "name": "stdout",
     "output_type": "stream",
     "text": [
      "not empty!\n"
     ]
    }
   ],
   "source": [
    "board=['1','2',' ',' ','4',' ','9',' ',' ','10']\n",
    "player_choice(board)"
   ]
  },
  {
   "cell_type": "code",
   "execution_count": 21,
   "metadata": {},
   "outputs": [
    {
     "name": "stdout",
     "output_type": "stream",
     "text": [
      "p2\n",
      "y2\n",
      "t2\n",
      "o3\n",
      "n3\n"
     ]
    }
   ],
   "source": [
    "# 循环中pass和continue的区别\n",
    "#pass\n",
    "a='python'\n",
    "i=2\n",
    "for letter in a:\n",
    "    if letter == 'h':\n",
    "        pass\n",
    "        i+=1\n",
    "    else:\n",
    "        print(letter+str(i))"
   ]
  },
  {
   "cell_type": "code",
   "execution_count": 22,
   "metadata": {},
   "outputs": [
    {
     "name": "stdout",
     "output_type": "stream",
     "text": [
      "p2\n",
      "y2\n",
      "h2\n",
      "o2\n",
      "n2\n"
     ]
    }
   ],
   "source": [
    "# 循环中pass和continue的区别\n",
    "#continue\n",
    "a='python'\n",
    "i=2\n",
    "for letter in a:\n",
    "    if letter == 't':\n",
    "        continue\n",
    "        i+=1\n",
    "    else:\n",
    "        print(letter+str(i))"
   ]
  },
  {
   "cell_type": "code",
   "execution_count": 23,
   "metadata": {},
   "outputs": [
    {
     "name": "stdout",
     "output_type": "stream",
     "text": [
      "p2\n",
      "y2\n"
     ]
    }
   ],
   "source": [
    "#break\n",
    "a='python'\n",
    "i=2\n",
    "for letter in a:\n",
    "    if letter == 't':\n",
    "        break\n",
    "        i+=1\n",
    "    else:\n",
    "        print(letter+str(i))"
   ]
  },
  {
   "cell_type": "markdown",
   "metadata": {},
   "source": []
  }
 ],
 "metadata": {
  "kernelspec": {
   "display_name": "Python 3",
   "language": "python",
   "name": "python3"
  },
  "language_info": {
   "codemirror_mode": {
    "name": "ipython",
    "version": 3
   },
   "file_extension": ".py",
   "mimetype": "text/x-python",
   "name": "python",
   "nbconvert_exporter": "python",
   "pygments_lexer": "ipython3",
   "version": "3.9.6"
  },
  "orig_nbformat": 4
 },
 "nbformat": 4,
 "nbformat_minor": 2
}
