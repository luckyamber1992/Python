{
 "cells": [
  {
   "cell_type": "code",
   "execution_count": 2,
   "id": "7a9ea759",
   "metadata": {},
   "outputs": [],
   "source": [
    "my_list = [1,2,3] #in list, the elements could be a number , a string or a floating point number"
   ]
  },
  {
   "cell_type": "code",
   "execution_count": 3,
   "id": "cb954671",
   "metadata": {},
   "outputs": [
    {
     "data": {
      "text/plain": [
       "3"
      ]
     },
     "execution_count": 3,
     "metadata": {},
     "output_type": "execute_result"
    }
   ],
   "source": [
    "len(my_list)"
   ]
  },
  {
   "cell_type": "code",
   "execution_count": null,
   "id": "31bf42d9",
   "metadata": {},
   "outputs": [],
   "source": [
    "# list can be concatenated"
   ]
  },
  {
   "cell_type": "code",
   "execution_count": 4,
   "id": "38a470c9",
   "metadata": {},
   "outputs": [],
   "source": [
    "another_list = ['one', 'two']"
   ]
  },
  {
   "cell_type": "code",
   "execution_count": 6,
   "id": "add4b347",
   "metadata": {},
   "outputs": [],
   "source": [
    "first_list = ['three', 'four', 'five']"
   ]
  },
  {
   "cell_type": "code",
   "execution_count": 10,
   "id": "543f517a",
   "metadata": {},
   "outputs": [],
   "source": [
    "new_list= first_list + another_list"
   ]
  },
  {
   "cell_type": "code",
   "execution_count": 11,
   "id": "471d5d73",
   "metadata": {},
   "outputs": [
    {
     "data": {
      "text/plain": [
       "['three', 'four', 'five', 'one', 'two']"
      ]
     },
     "execution_count": 11,
     "metadata": {},
     "output_type": "execute_result"
    }
   ],
   "source": [
    "new_list"
   ]
  },
  {
   "cell_type": "code",
   "execution_count": 12,
   "id": "7a312810",
   "metadata": {},
   "outputs": [
    {
     "data": {
      "text/plain": [
       "'three'"
      ]
     },
     "execution_count": 12,
     "metadata": {},
     "output_type": "execute_result"
    }
   ],
   "source": [
    "new_list[0]"
   ]
  },
  {
   "cell_type": "code",
   "execution_count": 13,
   "id": "18b8e192",
   "metadata": {},
   "outputs": [],
   "source": [
    "new_list[0] = 'hi'"
   ]
  },
  {
   "cell_type": "code",
   "execution_count": 14,
   "id": "1be74ada",
   "metadata": {},
   "outputs": [
    {
     "data": {
      "text/plain": [
       "['hi', 'four', 'five', 'one', 'two']"
      ]
     },
     "execution_count": 14,
     "metadata": {},
     "output_type": "execute_result"
    }
   ],
   "source": [
    "new_list"
   ]
  },
  {
   "cell_type": "code",
   "execution_count": 16,
   "id": "2ade78c9",
   "metadata": {},
   "outputs": [],
   "source": [
    "new_list.append('hi')"
   ]
  },
  {
   "cell_type": "code",
   "execution_count": 17,
   "id": "6bff1100",
   "metadata": {},
   "outputs": [
    {
     "data": {
      "text/plain": [
       "['hi', 'four', 'five', 'one', 'two', 'hi']"
      ]
     },
     "execution_count": 17,
     "metadata": {},
     "output_type": "execute_result"
    }
   ],
   "source": [
    "new_list"
   ]
  },
  {
   "cell_type": "code",
   "execution_count": 20,
   "id": "c8b7ffb2",
   "metadata": {},
   "outputs": [],
   "source": [
    "popped_item = new_list.pop(1)"
   ]
  },
  {
   "cell_type": "code",
   "execution_count": 21,
   "id": "8d997b21",
   "metadata": {},
   "outputs": [
    {
     "data": {
      "text/plain": [
       "'five'"
      ]
     },
     "execution_count": 21,
     "metadata": {},
     "output_type": "execute_result"
    }
   ],
   "source": [
    "popped_item #把其中一个元素扔出去"
   ]
  },
  {
   "cell_type": "code",
   "execution_count": 22,
   "id": "3ad3ebf1",
   "metadata": {},
   "outputs": [
    {
     "data": {
      "text/plain": [
       "['hi', 'one', 'two', 'hi']"
      ]
     },
     "execution_count": 22,
     "metadata": {},
     "output_type": "execute_result"
    }
   ],
   "source": [
    "new_list"
   ]
  },
  {
   "cell_type": "code",
   "execution_count": 23,
   "id": "0013f1af",
   "metadata": {},
   "outputs": [],
   "source": [
    "my_sorted_list= ['a', 'c', 'd', 'b', 'e']"
   ]
  },
  {
   "cell_type": "code",
   "execution_count": 24,
   "id": "b8ef4b41",
   "metadata": {},
   "outputs": [
    {
     "data": {
      "text/plain": [
       "['a', 'c', 'd', 'b', 'e']"
      ]
     },
     "execution_count": 24,
     "metadata": {},
     "output_type": "execute_result"
    }
   ],
   "source": [
    "my_sorted_list"
   ]
  },
  {
   "cell_type": "code",
   "execution_count": 25,
   "id": "15a0123a",
   "metadata": {},
   "outputs": [],
   "source": [
    "my_sorted_list.sort()"
   ]
  },
  {
   "cell_type": "code",
   "execution_count": 26,
   "id": "f87b4ebb",
   "metadata": {},
   "outputs": [
    {
     "data": {
      "text/plain": [
       "['a', 'b', 'c', 'd', 'e']"
      ]
     },
     "execution_count": 26,
     "metadata": {},
     "output_type": "execute_result"
    }
   ],
   "source": [
    "my_sorted_list"
   ]
  },
  {
   "cell_type": "code",
   "execution_count": 33,
   "id": "264bcf7b",
   "metadata": {},
   "outputs": [],
   "source": [
    "num_list = [1,3,2,5,4,6]"
   ]
  },
  {
   "cell_type": "code",
   "execution_count": 34,
   "id": "6814445e",
   "metadata": {},
   "outputs": [],
   "source": [
    "num_list.reverse() #指的是将数字倒序排列"
   ]
  },
  {
   "cell_type": "code",
   "execution_count": 35,
   "id": "3bd69d84",
   "metadata": {},
   "outputs": [
    {
     "data": {
      "text/plain": [
       "[6, 4, 5, 2, 3, 1]"
      ]
     },
     "execution_count": 35,
     "metadata": {},
     "output_type": "execute_result"
    }
   ],
   "source": [
    "num_list"
   ]
  },
  {
   "cell_type": "code",
   "execution_count": null,
   "id": "d700a604",
   "metadata": {},
   "outputs": [],
   "source": []
  }
 ],
 "metadata": {
  "kernelspec": {
   "display_name": "Python 3 (ipykernel)",
   "language": "python",
   "name": "python3"
  },
  "language_info": {
   "codemirror_mode": {
    "name": "ipython",
    "version": 3
   },
   "file_extension": ".py",
   "mimetype": "text/x-python",
   "name": "python",
   "nbconvert_exporter": "python",
   "pygments_lexer": "ipython3",
   "version": "3.10.9"
  }
 },
 "nbformat": 4,
 "nbformat_minor": 5
}
