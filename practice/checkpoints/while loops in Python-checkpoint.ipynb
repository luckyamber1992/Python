{
 "cells": [
  {
   "cell_type": "code",
   "execution_count": 7,
   "id": "a63b35fb",
   "metadata": {},
   "outputs": [
    {
     "name": "stdout",
     "output_type": "stream",
     "text": [
      "x is bigger than 5\n"
     ]
    }
   ],
   "source": [
    "x =10\n",
    "while x < 5:\n",
    "    print(f'the value of x is {x}')\n",
    "    x=x+1 # or x+=1\n",
    "else: \n",
    "    print('x is bigger than 5')"
   ]
  },
  {
   "cell_type": "markdown",
   "id": "24f6ecd0",
   "metadata": {},
   "source": [
    "# break, continue, pass\n",
    "break: breaks out of the current closest enclosing loop.\n",
    "continue:goes to the top of the closest enclosing loop.\n",
    "pass: does nothing at all"
   ]
  },
  {
   "cell_type": "code",
   "execution_count": null,
   "id": "f3c82ff7",
   "metadata": {},
   "outputs": [],
   "source": [
    "# pass can be used as a place holder, see the example dow below"
   ]
  },
  {
   "cell_type": "code",
   "execution_count": 8,
   "id": "e9c6b1ae",
   "metadata": {},
   "outputs": [
    {
     "name": "stdout",
     "output_type": "stream",
     "text": [
      "end of my script\n"
     ]
    }
   ],
   "source": [
    "x = [1,2,3]\n",
    "for item in x:\n",
    "    pass # if you write nothing here, there would be a syntax error\n",
    "print('end of my script')"
   ]
  },
  {
   "cell_type": "code",
   "execution_count": 14,
   "id": "f728bce1",
   "metadata": {},
   "outputs": [
    {
     "name": "stdout",
     "output_type": "stream",
     "text": [
      "s\n",
      "m\n",
      "y\n"
     ]
    }
   ],
   "source": [
    "mystring = 'samy'\n",
    "for letter in mystring: #这里是在iterate\n",
    "    if letter == 'a':\n",
    "        continue\n",
    "    print(letter)\n",
    "    # if the letter is a, go back to the loop "
   ]
  },
  {
   "cell_type": "code",
   "execution_count": 15,
   "id": "7e78ca55",
   "metadata": {},
   "outputs": [
    {
     "name": "stdout",
     "output_type": "stream",
     "text": [
      "s\n"
     ]
    }
   ],
   "source": [
    "mystring = 'samy'\n",
    "for letter in mystring: #这里是在iterate\n",
    "    if letter == 'a':\n",
    "        break #it stops the loop if that letter is 'a'\n",
    "    print(letter)"
   ]
  },
  {
   "cell_type": "code",
   "execution_count": 22,
   "id": "7921df9f",
   "metadata": {},
   "outputs": [
    {
     "name": "stdout",
     "output_type": "stream",
     "text": [
      "0\n",
      "1\n",
      "2\n",
      "3\n"
     ]
    }
   ],
   "source": [
    "x = 0 \n",
    "while x < 5:\n",
    "    print(x)\n",
    "    x += 1\n",
    "    if x >3:\n",
    "        break"
   ]
  },
  {
   "cell_type": "code",
   "execution_count": null,
   "id": "dfb1c40b",
   "metadata": {},
   "outputs": [],
   "source": []
  }
 ],
 "metadata": {
  "kernelspec": {
   "display_name": "Python 3 (ipykernel)",
   "language": "python",
   "name": "python3"
  },
  "language_info": {
   "codemirror_mode": {
    "name": "ipython",
    "version": 3
   },
   "file_extension": ".py",
   "mimetype": "text/x-python",
   "name": "python",
   "nbconvert_exporter": "python",
   "pygments_lexer": "ipython3",
   "version": "3.10.9"
  }
 },
 "nbformat": 4,
 "nbformat_minor": 5
}
