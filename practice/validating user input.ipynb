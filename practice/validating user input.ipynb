{
 "cells": [
  {
   "cell_type": "code",
   "execution_count": 5,
   "id": "507cf7a8",
   "metadata": {},
   "outputs": [],
   "source": [
    "def user_choice():\n",
    "# two conditions to check\n",
    "    acceptable_range= range(0,10)\n",
    "    within_range= False\n",
    "    choice = 'wrong'\n",
    "\n",
    "    while choice.isdigit==False or within_range==False:\n",
    "        choice = input('give a number __')\n",
    "        # digit check\n",
    "        if choice.isdigit()==False:\n",
    "            print('your input is not a digit')\n",
    "        \n",
    "        if choice.isdigit()== True: \n",
    "            if int(choice) in acceptable_range:\n",
    "                within_range=True\n",
    "                \n",
    "            else:\n",
    "                print('out of range!')\n",
    "                \n",
    "    return int(choice)\n"
   ]
  },
  {
   "cell_type": "code",
   "execution_count": 7,
   "id": "321a65a5",
   "metadata": {},
   "outputs": [
    {
     "name": "stdout",
     "output_type": "stream",
     "text": [
      "give a number __e\n",
      "your input is not a digit\n",
      "give a number __34\n",
      "out of range!\n",
      "give a number __1\n"
     ]
    },
    {
     "data": {
      "text/plain": [
       "1"
      ]
     },
     "execution_count": 7,
     "metadata": {},
     "output_type": "execute_result"
    }
   ],
   "source": [
    "user_choice()"
   ]
  },
  {
   "cell_type": "code",
   "execution_count": null,
   "id": "3a8106d4",
   "metadata": {},
   "outputs": [],
   "source": []
  },
  {
   "cell_type": "code",
   "execution_count": null,
   "id": "9d977318",
   "metadata": {},
   "outputs": [],
   "source": []
  }
 ],
 "metadata": {
  "kernelspec": {
   "display_name": "Python 3 (ipykernel)",
   "language": "python",
   "name": "python3"
  },
  "language_info": {
   "codemirror_mode": {
    "name": "ipython",
    "version": 3
   },
   "file_extension": ".py",
   "mimetype": "text/x-python",
   "name": "python",
   "nbconvert_exporter": "python",
   "pygments_lexer": "ipython3",
   "version": "3.10.9"
  }
 },
 "nbformat": 4,
 "nbformat_minor": 5
}
