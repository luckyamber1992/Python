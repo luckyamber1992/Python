{
 "cells": [
  {
   "cell_type": "code",
   "execution_count": 5,
   "id": "fea1c4d8",
   "metadata": {},
   "outputs": [],
   "source": [
    "game_list =[0,1,2]"
   ]
  },
  {
   "cell_type": "code",
   "execution_count": 1,
   "id": "eda3f94c",
   "metadata": {},
   "outputs": [],
   "source": [
    "def display_game(game_list):\n",
    "    print('Here is the current list: ')\n",
    "    print(game_list)"
   ]
  },
  {
   "cell_type": "code",
   "execution_count": 20,
   "id": "93adaea3",
   "metadata": {},
   "outputs": [
    {
     "name": "stdout",
     "output_type": "stream",
     "text": [
      "Here is the current list: \n",
      "[0, 1, 2]\n"
     ]
    }
   ],
   "source": [
    "display_game(game_list)"
   ]
  },
  {
   "cell_type": "code",
   "execution_count": 2,
   "id": "99e1d632",
   "metadata": {},
   "outputs": [],
   "source": [
    "def position_choice():\n",
    "    choice ='wrong'\n",
    "    while choice not in ['0','1','2']:\n",
    "        choice=input('pick a number in [0,1,2] ')\n",
    "        if choice not in ['0','1','2']:\n",
    "            print ('woops, this number is not in game_list')\n",
    "    return int(choice)\n",
    "            "
   ]
  },
  {
   "cell_type": "code",
   "execution_count": null,
   "id": "a39ce1a2",
   "metadata": {},
   "outputs": [],
   "source": [
    "position_choice()"
   ]
  },
  {
   "cell_type": "code",
   "execution_count": 3,
   "id": "c82f02c0",
   "metadata": {},
   "outputs": [],
   "source": [
    "# ask user to type a string to place at position\n",
    "def replacement_choice(game_list,position):\n",
    "    user_placement = input('Type a string to place at position:__')\n",
    "    game_list[position]=user_placement\n",
    "    return game_list"
   ]
  },
  {
   "cell_type": "code",
   "execution_count": null,
   "id": "b9ce02e0",
   "metadata": {},
   "outputs": [],
   "source": [
    "replacement_choice(game_list,1)"
   ]
  },
  {
   "cell_type": "code",
   "execution_count": 6,
   "id": "38635fa5",
   "metadata": {},
   "outputs": [],
   "source": [
    "# to make sure the user keeps on playing\n",
    "def gameon_choice():\n",
    "    choice ='wrong'\n",
    "    while choice not in ['Y','N']:\n",
    "        choice=input('Keep playing? choose Y or N:  ')\n",
    "        if choice not in ['Y','N']:\n",
    "            print ('woops, wrong choice')\n",
    "        elif choice in ['Y','N']:\n",
    "            if choice == 'Y':\n",
    "                return True\n",
    "            if choice == 'quit':\n",
    "                break\n",
    "            else:\n",
    "                return False\n",
    "            "
   ]
  },
  {
   "cell_type": "code",
   "execution_count": 3,
   "id": "08e5acff",
   "metadata": {},
   "outputs": [
    {
     "name": "stdout",
     "output_type": "stream",
     "text": [
      "Keep playing? choose Y or N:  Y\n"
     ]
    },
    {
     "data": {
      "text/plain": [
       "True"
      ]
     },
     "execution_count": 3,
     "metadata": {},
     "output_type": "execute_result"
    }
   ],
   "source": [
    "gameon_choice()"
   ]
  },
  {
   "cell_type": "code",
   "execution_count": 5,
   "id": "34a3edfd",
   "metadata": {},
   "outputs": [
    {
     "name": "stdout",
     "output_type": "stream",
     "text": [
      "Here is the current list: \n",
      "[0, 1, 2]\n",
      "pick a number in [0,1,2] 1\n",
      "Type a string to place at position:__s\n",
      "Here is the current list: \n",
      "[0, 's', 2]\n",
      "Keep playing? choose Y or N:  quit\n",
      "woops, wrong choice\n",
      "Keep playing? choose Y or N:  N\n"
     ]
    }
   ],
   "source": [
    "game_list=[0,1,2]\n",
    "game_on=True\n",
    "while game_on:\n",
    "    display_game(game_list)\n",
    "    position=position_choice()\n",
    "    gmae_list=replacement_choice(game_list,position)\n",
    "    display_game(game_list)\n",
    "    game_on = gameon_choice()"
   ]
  },
  {
   "cell_type": "code",
   "execution_count": null,
   "id": "c11ff466",
   "metadata": {},
   "outputs": [],
   "source": []
  },
  {
   "cell_type": "code",
   "execution_count": null,
   "id": "cad9e5c0",
   "metadata": {},
   "outputs": [],
   "source": []
  }
 ],
 "metadata": {
  "kernelspec": {
   "display_name": "Python 3 (ipykernel)",
   "language": "python",
   "name": "python3"
  },
  "language_info": {
   "codemirror_mode": {
    "name": "ipython",
    "version": 3
   },
   "file_extension": ".py",
   "mimetype": "text/x-python",
   "name": "python",
   "nbconvert_exporter": "python",
   "pygments_lexer": "ipython3",
   "version": "3.10.9"
  }
 },
 "nbformat": 4,
 "nbformat_minor": 5
}
