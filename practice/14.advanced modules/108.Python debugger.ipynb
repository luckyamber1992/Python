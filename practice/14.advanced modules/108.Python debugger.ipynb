{
 "cells": [
  {
   "cell_type": "code",
   "execution_count": 4,
   "metadata": {},
   "outputs": [
    {
     "ename": "TypeError",
     "evalue": "unsupported operand type(s) for +: 'int' and 'list'",
     "output_type": "error",
     "traceback": [
      "\u001b[0;31m---------------------------------------------------------------------------\u001b[0m",
      "\u001b[0;31mTypeError\u001b[0m                                 Traceback (most recent call last)",
      "Cell \u001b[0;32mIn[4], line 6\u001b[0m\n\u001b[1;32m      3\u001b[0m z\u001b[39m=\u001b[39m\u001b[39m3\u001b[39m\n\u001b[1;32m      5\u001b[0m result_one \u001b[39m=\u001b[39m y\u001b[39m+\u001b[39mz\n\u001b[0;32m----> 6\u001b[0m result_two \u001b[39m=\u001b[39m y\u001b[39m+\u001b[39;49mx\n",
      "\u001b[0;31mTypeError\u001b[0m: unsupported operand type(s) for +: 'int' and 'list'"
     ]
    }
   ],
   "source": [
    "x= [1,2,3]\n",
    "y=2\n",
    "z=3\n",
    "\n",
    "result_one = y+z\n",
    "result_two = y+x"
   ]
  },
  {
   "cell_type": "code",
   "execution_count": null,
   "metadata": {},
   "outputs": [],
   "source": [
    "import pdb"
   ]
  },
  {
   "cell_type": "code",
   "execution_count": null,
   "metadata": {},
   "outputs": [
    {
     "name": "stdout",
     "output_type": "stream",
     "text": [
      "--Return--\n",
      "None\n",
      "> \u001b[0;32m/var/folders/vk/5gqp9r7x0tn03dtgglmxdqbm0000gn/T/ipykernel_49537/3434140077.py\u001b[0m(7)\u001b[0;36m<module>\u001b[0;34m()\u001b[0m\n",
      "\u001b[0;32m      5 \u001b[0;31m\u001b[0mresult_one\u001b[0m \u001b[0;34m=\u001b[0m \u001b[0my\u001b[0m\u001b[0;34m+\u001b[0m\u001b[0mz\u001b[0m\u001b[0;34m\u001b[0m\u001b[0;34m\u001b[0m\u001b[0m\n",
      "\u001b[0m\u001b[0;32m      6 \u001b[0;31m\u001b[0;34m\u001b[0m\u001b[0m\n",
      "\u001b[0m\u001b[0;32m----> 7 \u001b[0;31m\u001b[0mpdb\u001b[0m\u001b[0;34m.\u001b[0m\u001b[0mset_trace\u001b[0m\u001b[0;34m(\u001b[0m\u001b[0;34m)\u001b[0m\u001b[0;34m\u001b[0m\u001b[0;34m\u001b[0m\u001b[0m\n",
      "\u001b[0m\u001b[0;32m      8 \u001b[0;31m\u001b[0;34m\u001b[0m\u001b[0m\n",
      "\u001b[0m\u001b[0;32m      9 \u001b[0;31m\u001b[0mresult_two\u001b[0m \u001b[0;34m=\u001b[0m \u001b[0my\u001b[0m\u001b[0;34m+\u001b[0m\u001b[0mx\u001b[0m\u001b[0;34m\u001b[0m\u001b[0;34m\u001b[0m\u001b[0m\n",
      "\u001b[0m\n",
      "2\n",
      "[1, 2, 3]\n",
      "*** TypeError: can only concatenate list (not \"int\") to list\n",
      "*** TypeError: can only concatenate list (not \"int\") to list\n",
      "*** TypeError: can only concatenate list (not \"int\") to list\n",
      "*** TypeError: can only concatenate list (not \"int\") to list\n",
      "*** TypeError: can only concatenate list (not \"int\") to list\n",
      "*** TypeError: can only concatenate list (not \"int\") to list\n",
      "*** TypeError: can only concatenate list (not \"int\") to list\n",
      "*** TypeError: can only concatenate list (not \"int\") to list\n",
      "*** TypeError: can only concatenate list (not \"int\") to list\n",
      "*** TypeError: can only concatenate list (not \"int\") to list\n",
      "*** TypeError: can only concatenate list (not \"int\") to list\n",
      "*** TypeError: can only concatenate list (not \"int\") to list\n"
     ]
    }
   ],
   "source": [
    "x= [1,2,3]\n",
    "y=2\n",
    "z=3\n",
    "\n",
    "result_one = y+z\n",
    "\n",
    "pdb.set_trace()\n",
    "\n",
    "result_two = y+x\n"
   ]
  }
 ],
 "metadata": {
  "kernelspec": {
   "display_name": "Python 3",
   "language": "python",
   "name": "python3"
  },
  "language_info": {
   "codemirror_mode": {
    "name": "ipython",
    "version": 3
   },
   "file_extension": ".py",
   "mimetype": "text/x-python",
   "name": "python",
   "nbconvert_exporter": "python",
   "pygments_lexer": "ipython3",
   "version": "3.9.6"
  },
  "orig_nbformat": 4
 },
 "nbformat": 4,
 "nbformat_minor": 2
}
