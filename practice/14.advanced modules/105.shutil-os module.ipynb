{
 "cells": [
  {
   "cell_type": "code",
   "execution_count": null,
   "metadata": {},
   "outputs": [],
   "source": [
    "# how to open every file in a directory?\n",
    "# how to move files around on our computer?"
   ]
  },
  {
   "cell_type": "code",
   "execution_count": 1,
   "metadata": {},
   "outputs": [
    {
     "data": {
      "text/plain": [
       "'/Users/amberyang/Python/practice/14.advanced modules'"
      ]
     },
     "execution_count": 1,
     "metadata": {},
     "output_type": "execute_result"
    }
   ],
   "source": [
    "pwd\n"
   ]
  },
  {
   "cell_type": "code",
   "execution_count": 4,
   "metadata": {},
   "outputs": [],
   "source": [
    "f = open('practice.txt','w+')\n",
    "f.write('This is a test string')\n",
    "f.close()"
   ]
  },
  {
   "cell_type": "code",
   "execution_count": 5,
   "metadata": {},
   "outputs": [
    {
     "data": {
      "text/plain": [
       "'/Users/amberyang/Python/practice/14.advanced modules'"
      ]
     },
     "execution_count": 5,
     "metadata": {},
     "output_type": "execute_result"
    }
   ],
   "source": [
    "pwd\n"
   ]
  },
  {
   "cell_type": "code",
   "execution_count": 7,
   "metadata": {},
   "outputs": [],
   "source": [
    "import os"
   ]
  },
  {
   "cell_type": "code",
   "execution_count": 8,
   "metadata": {},
   "outputs": [
    {
     "data": {
      "text/plain": [
       "'/Users/amberyang/Python/practice/14.advanced modules'"
      ]
     },
     "execution_count": 8,
     "metadata": {},
     "output_type": "execute_result"
    }
   ],
   "source": [
    "#this works in all python scripts\n",
    "os.getcwd()"
   ]
  },
  {
   "cell_type": "code",
   "execution_count": 9,
   "metadata": {},
   "outputs": [
    {
     "data": {
      "text/plain": [
       "['practice.txt',\n",
       " '104.python collection modules.ipynb',\n",
       " '105.shutil-os module.ipynb']"
      ]
     },
     "execution_count": 9,
     "metadata": {},
     "output_type": "execute_result"
    }
   ],
   "source": [
    "# list all the files in the current directory\n",
    "os.listdir()"
   ]
  },
  {
   "cell_type": "code",
   "execution_count": 11,
   "metadata": {},
   "outputs": [
    {
     "data": {
      "text/plain": [
       "['49.args and kwargs.ipynb',\n",
       " 'ifelse.ipynb',\n",
       " 'unittest.main()',\n",
       " 'practice_sheet.ipynb',\n",
       " '60.display information.ipynb',\n",
       " '48.coding practice.ipynb',\n",
       " 'Sets.ipynb',\n",
       " 'string indexing and slicing.ipynb',\n",
       " '55.lambda expressions map and filter.ipynb',\n",
       " '63.simple user interaction .ipynb',\n",
       " '61.accepting user input.ipynb',\n",
       " 'Built-in Functions Assessment Test.ipynb',\n",
       " 'List.ipynb',\n",
       " '43.def keyword.ipynb',\n",
       " 'useful operrators.ipynb',\n",
       " 'for loops in Python.ipynb',\n",
       " 'checkpoints',\n",
       " '47.interactions between python functions.ipynb',\n",
       " '1. Introduction to Python Data Types.ipynb',\n",
       " 'format().ipynb',\n",
       " '41.methods and the python documentation.ipynb',\n",
       " '14.advanced modules',\n",
       " 'Tuples.ipynb',\n",
       " '77.pip install and PyPi.ipynb',\n",
       " '98.decorators with python.ipynb',\n",
       " '46.tuple unpacking with python.ipynb',\n",
       " 'while loops in Python.ipynb',\n",
       " 'Dictionaries.ipynb',\n",
       " 'Booleans.ipynb',\n",
       " '56.nested statements and scope.ipynb',\n",
       " 'list comprehension.ipynb',\n",
       " '92.milstone project',\n",
       " '.ipynb_checkpoints',\n",
       " 'I O with basic files in Python.ipynb',\n",
       " '100.generators.ipynb',\n",
       " 'validating user input.ipynb',\n",
       " 'testfile',\n",
       " 'useful operators.ipynb',\n",
       " '14.variable assignments.ipynb',\n",
       " '84.pylint overview',\n",
       " '80.Errors and exception handling.ipynb']"
      ]
     },
     "execution_count": 11,
     "metadata": {},
     "output_type": "execute_result"
    }
   ],
   "source": [
    "#list files in the other directory\n",
    "os.listdir('/Users/amberyang/Python/practice')"
   ]
  },
  {
   "cell_type": "code",
   "execution_count": 12,
   "metadata": {},
   "outputs": [],
   "source": [
    "# to move files in different  directions\n",
    "import shutil "
   ]
  },
  {
   "cell_type": "code",
   "execution_count": 14,
   "metadata": {},
   "outputs": [
    {
     "data": {
      "text/plain": [
       "'/Users/amberyang/Python/practice/practice.txt'"
      ]
     },
     "execution_count": 14,
     "metadata": {},
     "output_type": "execute_result"
    }
   ],
   "source": [
    "# make sure you have perssion to move your file to the location\n",
    "shutil.move('practice.txt','/Users/amberyang/Python/practice')"
   ]
  },
  {
   "cell_type": "code",
   "execution_count": 16,
   "metadata": {},
   "outputs": [
    {
     "data": {
      "text/plain": [
       "['49.args and kwargs.ipynb',\n",
       " 'ifelse.ipynb',\n",
       " 'unittest.main()',\n",
       " 'practice_sheet.ipynb',\n",
       " '60.display information.ipynb',\n",
       " '48.coding practice.ipynb',\n",
       " 'Sets.ipynb',\n",
       " 'string indexing and slicing.ipynb',\n",
       " '55.lambda expressions map and filter.ipynb',\n",
       " '63.simple user interaction .ipynb',\n",
       " '61.accepting user input.ipynb',\n",
       " 'Built-in Functions Assessment Test.ipynb',\n",
       " 'List.ipynb',\n",
       " '43.def keyword.ipynb',\n",
       " 'useful operrators.ipynb',\n",
       " 'for loops in Python.ipynb',\n",
       " 'practice.txt',\n",
       " 'checkpoints',\n",
       " '47.interactions between python functions.ipynb',\n",
       " '1. Introduction to Python Data Types.ipynb',\n",
       " 'format().ipynb',\n",
       " '41.methods and the python documentation.ipynb',\n",
       " '14.advanced modules',\n",
       " 'Tuples.ipynb',\n",
       " '77.pip install and PyPi.ipynb',\n",
       " '98.decorators with python.ipynb',\n",
       " '46.tuple unpacking with python.ipynb',\n",
       " 'while loops in Python.ipynb',\n",
       " 'Dictionaries.ipynb',\n",
       " 'Booleans.ipynb',\n",
       " '56.nested statements and scope.ipynb',\n",
       " 'list comprehension.ipynb',\n",
       " '92.milstone project',\n",
       " '.ipynb_checkpoints',\n",
       " 'I O with basic files in Python.ipynb',\n",
       " '100.generators.ipynb',\n",
       " 'validating user input.ipynb',\n",
       " 'testfile',\n",
       " 'useful operators.ipynb',\n",
       " '14.variable assignments.ipynb',\n",
       " '84.pylint overview',\n",
       " '80.Errors and exception handling.ipynb']"
      ]
     },
     "execution_count": 16,
     "metadata": {},
     "output_type": "execute_result"
    }
   ],
   "source": [
    "os.listdir('/Users/amberyang/Python/practice')"
   ]
  },
  {
   "cell_type": "code",
   "execution_count": null,
   "metadata": {},
   "outputs": [],
   "source": [
    "# how to delete a file\n",
    "#os.unlink(path): it deletes a file at the path you give\n",
    "#os.rmdir(path):it deletes a folder (which has to be empty) at the path you provide\n",
    "#shutil.rmtree(path): it deletes all floders and files in the path\n",
    "## ATTENTION! all files cannot be reversed \n",
    "# a safer alternative is send2trash method"
   ]
  },
  {
   "cell_type": "code",
   "execution_count": 19,
   "metadata": {},
   "outputs": [],
   "source": [
    "import send2trash"
   ]
  },
  {
   "cell_type": "code",
   "execution_count": 20,
   "metadata": {},
   "outputs": [
    {
     "data": {
      "text/plain": [
       "['104.python collection modules.ipynb', '105.shutil-os module.ipynb']"
      ]
     },
     "execution_count": 20,
     "metadata": {},
     "output_type": "execute_result"
    }
   ],
   "source": [
    "os.listdir()"
   ]
  },
  {
   "cell_type": "code",
   "execution_count": 21,
   "metadata": {},
   "outputs": [
    {
     "data": {
      "text/plain": [
       "'/Users/amberyang/Python/practice/14.advanced modules/practice.txt'"
      ]
     },
     "execution_count": 21,
     "metadata": {},
     "output_type": "execute_result"
    }
   ],
   "source": [
    "shutil.move('/Users/amberyang/Python/practice/practice.txt',os.getcwd())"
   ]
  },
  {
   "cell_type": "code",
   "execution_count": 22,
   "metadata": {},
   "outputs": [
    {
     "data": {
      "text/plain": [
       "['practice.txt',\n",
       " '104.python collection modules.ipynb',\n",
       " '105.shutil-os module.ipynb']"
      ]
     },
     "execution_count": 22,
     "metadata": {},
     "output_type": "execute_result"
    }
   ],
   "source": [
    "os.listdir()"
   ]
  },
  {
   "cell_type": "code",
   "execution_count": 23,
   "metadata": {},
   "outputs": [],
   "source": [
    "send2trash.send2trash('practice.txt')"
   ]
  },
  {
   "cell_type": "code",
   "execution_count": 24,
   "metadata": {},
   "outputs": [
    {
     "data": {
      "text/plain": [
       "['104.python collection modules.ipynb', '105.shutil-os module.ipynb']"
      ]
     },
     "execution_count": 24,
     "metadata": {},
     "output_type": "execute_result"
    }
   ],
   "source": [
    "os.listdir()"
   ]
  },
  {
   "cell_type": "code",
   "execution_count": 25,
   "metadata": {},
   "outputs": [
    {
     "data": {
      "text/plain": [
       "'/Users/amberyang/Python/practice/14.advanced modules'"
      ]
     },
     "execution_count": 25,
     "metadata": {},
     "output_type": "execute_result"
    }
   ],
   "source": [
    "os.getcwd()"
   ]
  },
  {
   "cell_type": "code",
   "execution_count": 31,
   "metadata": {},
   "outputs": [],
   "source": [
    "file_path='/Users/amberyang/Python/practice/14.advanced modules'\n"
   ]
  },
  {
   "cell_type": "code",
   "execution_count": 43,
   "metadata": {},
   "outputs": [
    {
     "name": "stdout",
     "output_type": "stream",
     "text": [
      "We are looking at /Users/amberyang/Python/practice/14.advanced modules\n",
      "\n",
      "\n",
      "\t the sub-folders are: 14.test_folder\n",
      "\t the files are: 104.python collection modules.ipynb\n",
      "\t the files are: 105.shutil-os module.ipynb\n",
      "We are looking at /Users/amberyang/Python/practice/14.advanced modules/14.test_folder\n",
      "\n",
      "\n",
      "\t the sub-folders are: Example_Top_Level\n",
      "\t the files are: test.md\n",
      "We are looking at /Users/amberyang/Python/practice/14.advanced modules/14.test_folder/Example_Top_Level\n",
      "\n",
      "\n",
      "\t the sub-folders are: Mid-Example-One\n",
      "\t the files are: Mid-Example.txt\n",
      "We are looking at /Users/amberyang/Python/practice/14.advanced modules/14.test_folder/Example_Top_Level/Mid-Example-One\n",
      "\n",
      "\n",
      "\t the sub-folders are: Bottom-Level-Two\n",
      "\t the sub-folders are: Bottom-Level-One\n",
      "\t the files are: Mid-Level-Doc.txt\n",
      "We are looking at /Users/amberyang/Python/practice/14.advanced modules/14.test_folder/Example_Top_Level/Mid-Example-One/Bottom-Level-Two\n",
      "\n",
      "\n",
      "\t the files are: Bottom-Text-Two.txt\n",
      "We are looking at /Users/amberyang/Python/practice/14.advanced modules/14.test_folder/Example_Top_Level/Mid-Example-One/Bottom-Level-One\n",
      "\n",
      "\n",
      "\t the files are: One_Text.txt\n"
     ]
    }
   ],
   "source": [
    "for folder, sub_folderrs, files in os.walk(file_path):\n",
    "    print('We are looking at '+folder)\n",
    "    print('\\n')\n",
    "    for sub_folder in sub_folderrs:\n",
    "        print('\\t the sub-folders are: '+ sub_folder)\n",
    "    for file in files:\n",
    "        print(f'\\t the files are: {file}')\n"
   ]
  },
  {
   "cell_type": "code",
   "execution_count": 33,
   "metadata": {},
   "outputs": [
    {
     "data": {
      "text/plain": [
       "'/Users/amberyang/Python/practice/14.advanced modules'"
      ]
     },
     "execution_count": 33,
     "metadata": {},
     "output_type": "execute_result"
    }
   ],
   "source": [
    "os.getcwd()"
   ]
  },
  {
   "cell_type": "code",
   "execution_count": 40,
   "metadata": {},
   "outputs": [
    {
     "data": {
      "text/plain": [
       "['104.python collection modules.ipynb',\n",
       " '14.test_folder',\n",
       " '105.shutil-os module.ipynb']"
      ]
     },
     "execution_count": 40,
     "metadata": {},
     "output_type": "execute_result"
    }
   ],
   "source": [
    "os.listdir()"
   ]
  },
  {
   "cell_type": "code",
   "execution_count": null,
   "metadata": {},
   "outputs": [],
   "source": [
    "for "
   ]
  }
 ],
 "metadata": {
  "kernelspec": {
   "display_name": "Python 3",
   "language": "python",
   "name": "python3"
  },
  "language_info": {
   "codemirror_mode": {
    "name": "ipython",
    "version": 3
   },
   "file_extension": ".py",
   "mimetype": "text/x-python",
   "name": "python",
   "nbconvert_exporter": "python",
   "pygments_lexer": "ipython3",
   "version": "3.9.6"
  },
  "orig_nbformat": 4
 },
 "nbformat": 4,
 "nbformat_minor": 2
}
