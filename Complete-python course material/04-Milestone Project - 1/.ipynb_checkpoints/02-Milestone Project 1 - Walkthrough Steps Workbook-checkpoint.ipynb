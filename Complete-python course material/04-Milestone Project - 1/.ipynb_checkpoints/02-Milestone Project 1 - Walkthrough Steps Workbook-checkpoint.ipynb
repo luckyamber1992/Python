{
 "cells": [
  {
   "cell_type": "markdown",
   "metadata": {},
   "source": [
    "___\n",
    "\n",
    "<a href='https://www.udemy.com/user/joseportilla/'><img src='../Pierian_Data_Logo.png'/></a>\n",
    "___\n",
    "<center><em>Content Copyright by Pierian Data</em></center>"
   ]
  },
  {
   "cell_type": "markdown",
   "metadata": {},
   "source": [
    "# Milestone Project 1: Walkthrough Steps Workbook\n",
    "\n",
    "Below is a set of steps for you to follow to try to create the Tic Tac Toe Milestone Project game!"
   ]
  },
  {
   "cell_type": "markdown",
   "metadata": {},
   "source": [
    "#### Some suggested tools before you get started:\n",
    "To take input from a user:\n",
    "\n",
    "    player1 = input(\"Please pick a marker 'X' or 'O'\")\n",
    "    \n",
    "Note that input() takes in a string. If you need an integer value, use\n",
    "\n",
    "    position = int(input('Please enter a number'))\n",
    "    \n",
    "<br>To clear the screen between moves:\n",
    "\n",
    "    from IPython.display import clear_output\n",
    "    clear_output()\n",
    "    \n",
    "Note that clear_output() will only work in jupyter. To clear the screen in other IDEs, consider:\n",
    "\n",
    "    print('\\n'*100)\n",
    "    \n",
    "This scrolls the previous board up out of view. Now on to the program!"
   ]
  },
  {
   "cell_type": "markdown",
   "metadata": {},
   "source": [
    "**Step 1: Write a function that can print out a board. Set up your board as a list, where each index 1-9 corresponds with a number on a number pad, so you get a 3 by 3 board representation.**"
   ]
  },
  {
   "cell_type": "code",
   "execution_count": 35,
   "metadata": {
    "collapsed": true
   },
   "outputs": [],
   "source": [
    "from IPython.display import clear_output\n",
    "\n",
    "def display_board(board):\n",
    "    clear_output()# this can clear the output for you when running it a second time\n",
    "    print(board[7]+'|'+board[8]+'|'+board[9])\n",
    "    print(board[4]+'|'+board[5]+'|'+board[6])\n",
    "    print(board[1]+'|'+board[2]+'|'+board[3])\n",
    "    pass"
   ]
  },
  {
   "cell_type": "markdown",
   "metadata": {},
   "source": [
    "**TEST Step 1:** run your function on a test version of the board list, and make adjustments as necessary"
   ]
  },
  {
   "cell_type": "code",
   "execution_count": 36,
   "metadata": {
    "collapsed": true
   },
   "outputs": [
    {
     "name": "stdout",
     "output_type": "stream",
     "text": [
      "X|O|X\n",
      "O|X|O\n",
      "X|O|X\n"
     ]
    }
   ],
   "source": [
    "test_board = ['#','X','O','X','O','X','O','X','O','X']\n",
    "display_board(test_board)"
   ]
  },
  {
   "cell_type": "markdown",
   "metadata": {},
   "source": [
    "**Step 2: Write a function that can take in a player input and assign their marker as 'X' or 'O'. Think about using *while* loops to continually ask until you get a correct answer.**"
   ]
  },
  {
   "cell_type": "code",
   "execution_count": 37,
   "metadata": {
    "collapsed": true
   },
   "outputs": [],
   "source": [
    "def player_input():\n",
    "  marker=''\n",
    "  while marker !='X' and marker !='O':   #这句也可以写成while not (marker=='X' or marker=='O)\n",
    "    marker=input('player:choose X or O: ').upper()\n",
    "  \n",
    "  if marker=='X':\n",
    "      return('X','O')\n",
    "  \n",
    "  else:\n",
    "      return ('O','X')\n",
    "    "
   ]
  },
  {
   "cell_type": "code",
   "execution_count": 38,
   "metadata": {},
   "outputs": [
    {
     "data": {
      "text/plain": [
       "('X', 'O')"
      ]
     },
     "execution_count": 38,
     "metadata": {},
     "output_type": "execute_result"
    }
   ],
   "source": [
    "player_input()"
   ]
  },
  {
   "cell_type": "markdown",
   "metadata": {},
   "source": [
    "**TEST Step 2:** run the function to make sure it returns the desired output"
   ]
  },
  {
   "cell_type": "markdown",
   "metadata": {},
   "source": [
    "**Step 3: Write a function that takes in the board list object, a marker ('X' or 'O'), and a desired position (number 1-9) and assigns it to the board.**"
   ]
  },
  {
   "cell_type": "code",
   "execution_count": 39,
   "metadata": {
    "collapsed": true
   },
   "outputs": [],
   "source": [
    "def place_marker(board, marker, position):\n",
    "    board[position]=marker\n",
    "    \n",
    "    pass"
   ]
  },
  {
   "cell_type": "markdown",
   "metadata": {},
   "source": [
    "**TEST Step 3:** run the place marker function using test parameters and display the modified board"
   ]
  },
  {
   "cell_type": "code",
   "execution_count": 40,
   "metadata": {
    "collapsed": true
   },
   "outputs": [
    {
     "name": "stdout",
     "output_type": "stream",
     "text": [
      "X|X|X\n",
      "O|X|O\n",
      "X|O|X\n"
     ]
    }
   ],
   "source": [
    "place_marker(test_board,'X',8)\n",
    "display_board(test_board)"
   ]
  },
  {
   "cell_type": "markdown",
   "metadata": {},
   "source": [
    "**Step 4: Write a function that takes in a board and a mark (X or O) and then checks to see if that mark has won. **"
   ]
  },
  {
   "cell_type": "code",
   "execution_count": 41,
   "metadata": {
    "collapsed": true
   },
   "outputs": [],
   "source": [
    "def win_check(board, mark):\n",
    " # check all rows to see whether they share the same marker \n",
    "    return (board[1]==board[2]==board[3]==mark) or (\n",
    "        board[4]==board[5]==board[6]==mark) or (\n",
    "        board[7]==board[8]==board[9]==mark) or ( #check rows\n",
    "        board[1]==board[4]==board[7]==mark) or (\n",
    "        board[2]==board[5]==board[8]==mark) or (\n",
    "        board[3]==board[6]==board[9]==mark) or (# check columns\n",
    "        board[1]==board[5]==board[9]==mark) or (#check diagnols\n",
    "        board[3]==board[5]==board[7]==mark)  "
   ]
  },
  {
   "cell_type": "markdown",
   "metadata": {},
   "source": [
    "**TEST Step 4:** run the win_check function against our test_board - it should return True"
   ]
  },
  {
   "cell_type": "code",
   "execution_count": 42,
   "metadata": {
    "collapsed": true
   },
   "outputs": [
    {
     "data": {
      "text/plain": [
       "False"
      ]
     },
     "execution_count": 42,
     "metadata": {},
     "output_type": "execute_result"
    }
   ],
   "source": [
    "win_check(test_board,'o')"
   ]
  },
  {
   "cell_type": "markdown",
   "metadata": {},
   "source": [
    "**Step 5: Write a function that uses the random module to randomly decide which player goes first. You may want to lookup random.randint() Return a string of which player went first.**"
   ]
  },
  {
   "cell_type": "code",
   "execution_count": 43,
   "metadata": {
    "collapsed": true
   },
   "outputs": [],
   "source": [
    "import random\n",
    "def choose_first():\n",
    "    num=random.randint(0,1) \n",
    "    if num==0:\n",
    "        return 'player1'\n",
    "    else:\n",
    "        return 'player2'\n",
    "        "
   ]
  },
  {
   "cell_type": "markdown",
   "metadata": {},
   "source": [
    "**Step 6: Write a function that returns a boolean indicating whether a space on the board is freely available.**"
   ]
  },
  {
   "cell_type": "code",
   "execution_count": 44,
   "metadata": {
    "collapsed": true
   },
   "outputs": [],
   "source": [
    "def space_check(board, position):\n",
    "    return board[position]==' '\n",
    "        "
   ]
  },
  {
   "cell_type": "markdown",
   "metadata": {},
   "source": [
    "**Step 7: Write a function that checks if the board is full and returns a boolean value. True if full, False otherwise.**"
   ]
  },
  {
   "cell_type": "code",
   "execution_count": 55,
   "metadata": {
    "collapsed": true
   },
   "outputs": [],
   "source": [
    "def full_board_check(board):\n",
    "    for i in range(1,10):\n",
    "        if space_check(board,i):\n",
    "            return False\n",
    "    return True"
   ]
  },
  {
   "cell_type": "code",
   "execution_count": 46,
   "metadata": {},
   "outputs": [
    {
     "data": {
      "text/plain": [
       "True"
      ]
     },
     "execution_count": 46,
     "metadata": {},
     "output_type": "execute_result"
    }
   ],
   "source": [
    "full_board_check(test_board)"
   ]
  },
  {
   "cell_type": "markdown",
   "metadata": {},
   "source": [
    "**Step 8: Write a function that asks for a player's next position (as a number 1-9) and then uses the function from step 6 to check if it's a free position. If it is, then return the position for later use.**"
   ]
  },
  {
   "cell_type": "code",
   "execution_count": 65,
   "metadata": {
    "collapsed": true
   },
   "outputs": [],
   "source": [
    "def player_choice(board):\n",
    "    position=0\n",
    "    while position not in [1,2,3,4,5,6,7,8,9] or not space_check(board,position)==True:\n",
    "        position=int(input(\"what's your next position? chosse in 1-9\"))\n",
    "    return position \n",
    "    pass"
   ]
  },
  {
   "cell_type": "code",
   "execution_count": 66,
   "metadata": {},
   "outputs": [
    {
     "data": {
      "text/plain": [
       "9"
      ]
     },
     "execution_count": 66,
     "metadata": {},
     "output_type": "execute_result"
    }
   ],
   "source": [
    "board=[' ']*10\n",
    "player_choice(board)"
   ]
  },
  {
   "cell_type": "markdown",
   "metadata": {},
   "source": [
    "**Step 9: Write a function that asks the player if they want to play again and returns a boolean True if they do want to play again.**"
   ]
  },
  {
   "cell_type": "code",
   "execution_count": 51,
   "metadata": {
    "collapsed": true
   },
   "outputs": [],
   "source": [
    "def replay():\n",
    "    \n",
    "    return input('Do you want to play again? Enter Yes or No: ').lower().startswith('y')\n",
    "       \n",
    "    "
   ]
  },
  {
   "cell_type": "markdown",
   "metadata": {
    "collapsed": true
   },
   "source": [
    "**Step 10: Here comes the hard part! Use while loops and the functions you've made to run the game!**"
   ]
  },
  {
   "cell_type": "code",
   "execution_count": 62,
   "metadata": {
    "collapsed": true
   },
   "outputs": [
    {
     "name": "stdout",
     "output_type": "stream",
     "text": [
      " | | \n",
      " | | \n",
      "X| | \n"
     ]
    },
    {
     "ename": "ValueError",
     "evalue": "invalid literal for int() with base 10: ''",
     "output_type": "error",
     "traceback": [
      "\u001b[0;31m---------------------------------------------------------------------------\u001b[0m",
      "\u001b[0;31mValueError\u001b[0m                                Traceback (most recent call last)",
      "Cell \u001b[0;32mIn[62], line 40\u001b[0m\n\u001b[1;32m     37\u001b[0m \u001b[39m# Player2's turn.\u001b[39;00m\n\u001b[1;32m     38\u001b[0m \u001b[39melse\u001b[39;00m:            \n\u001b[1;32m     39\u001b[0m     display_board(theBoard)\n\u001b[0;32m---> 40\u001b[0m     position\u001b[39m=\u001b[39mplayer_choice(theBoard)\n\u001b[1;32m     41\u001b[0m     place_marker(theBoard,player2_marker,position)\n\u001b[1;32m     42\u001b[0m     \u001b[39mif\u001b[39;00m win_check(theBoard,player2_marker):\n",
      "Cell \u001b[0;32mIn[47], line 4\u001b[0m, in \u001b[0;36mplayer_choice\u001b[0;34m(board)\u001b[0m\n\u001b[1;32m      2\u001b[0m position\u001b[39m=\u001b[39m\u001b[39m0\u001b[39m\n\u001b[1;32m      3\u001b[0m \u001b[39mwhile\u001b[39;00m position \u001b[39mnot\u001b[39;00m \u001b[39min\u001b[39;00m [\u001b[39m1\u001b[39m,\u001b[39m2\u001b[39m,\u001b[39m3\u001b[39m,\u001b[39m4\u001b[39m,\u001b[39m5\u001b[39m,\u001b[39m6\u001b[39m,\u001b[39m7\u001b[39m,\u001b[39m8\u001b[39m,] \u001b[39mor\u001b[39;00m \u001b[39mnot\u001b[39;00m space_check(board,position)\u001b[39m==\u001b[39m\u001b[39mTrue\u001b[39;00m:\n\u001b[0;32m----> 4\u001b[0m     position\u001b[39m=\u001b[39m\u001b[39mint\u001b[39;49m(\u001b[39minput\u001b[39;49m(\u001b[39m\"\u001b[39;49m\u001b[39mwhat\u001b[39;49m\u001b[39m'\u001b[39;49m\u001b[39ms your next position? chosse in 1-9\u001b[39;49m\u001b[39m\"\u001b[39;49m))\n\u001b[1;32m      5\u001b[0m     \u001b[39mreturn\u001b[39;00m position \n\u001b[1;32m      6\u001b[0m \u001b[39mpass\u001b[39;00m\n",
      "\u001b[0;31mValueError\u001b[0m: invalid literal for int() with base 10: ''"
     ]
    }
   ],
   "source": [
    "print('Welcome to Tic Tac Toe!')\n",
    "\n",
    "while True:\n",
    "    # rest the board\n",
    "    from IPython.display import clear_output\n",
    "    theBoard=[' ']*10\n",
    "    player1_marker,player2_marker=player_input()\n",
    "    turn=choose_first()\n",
    "    print(turn+ ' go first')\n",
    "\n",
    "    play_game=input('are you ready to play? Y or N')\n",
    "\n",
    "    if play_game.lower()[0]=='y':\n",
    "        game_on=True\n",
    "    else:\n",
    "        game_on=False\n",
    "\n",
    "    while game_on:\n",
    "        #Player 1 Turn\n",
    "        if turn=='player1':\n",
    "            display_board(theBoard)\n",
    "            position=player_choice(theBoard)\n",
    "            place_marker(theBoard,player1_marker,position)\n",
    "            \n",
    "            if win_check(theBoard,player1_marker):\n",
    "                display_board(theBoard)\n",
    "                print('win!')\n",
    "                game_on=False\n",
    "            else:\n",
    "                if full_board_check(theBoard):\n",
    "                    display_board(theBoard)\n",
    "                    print('it is a tie game')\n",
    "                    break\n",
    "                else:\n",
    "                    turn = 'player2'\n",
    "        \n",
    "        # Player2's turn.\n",
    "        else:            \n",
    "            display_board(theBoard)\n",
    "            position=player_choice(theBoard)\n",
    "            place_marker(theBoard,player2_marker,position)\n",
    "            if win_check(theBoard,player2_marker):\n",
    "                display_board(theBoard)\n",
    "                print('player2 won!')\n",
    "                game_on=False\n",
    "            else:\n",
    "                if full_board_check(theBoard):\n",
    "                    display_board(theBoard)\n",
    "                    print('this is a tie game')\n",
    "                    break\n",
    "                else:\n",
    "                    turn='player1'\n",
    "                \n",
    "    if not replay():\n",
    "        break"
   ]
  },
  {
   "cell_type": "markdown",
   "metadata": {
    "collapsed": true
   },
   "source": [
    "## Good Job!"
   ]
  }
 ],
 "metadata": {
  "kernelspec": {
   "display_name": "Python 3",
   "language": "python",
   "name": "python3"
  },
  "language_info": {
   "codemirror_mode": {
    "name": "ipython",
    "version": 3
   },
   "file_extension": ".py",
   "mimetype": "text/x-python",
   "name": "python",
   "nbconvert_exporter": "python",
   "pygments_lexer": "ipython3",
   "version": "3.9.6"
  }
 },
 "nbformat": 4,
 "nbformat_minor": 1
}
